{
 "accelerator": "GPU",
 "cells": [
  {
   "cell_type": "code",
   "execution_count": 16,
   "metadata": {},
   "outputs": [],
   "source": [
    "%matplotlib inline\n",
    "import os\n",
    "import random\n",
    "import time\n",
    "\n",
    "import torch\n",
    "import torchvision\n",
    "import torchvision.transforms as transforms\n",
    "import numpy as np\n",
    "import torch.nn as nn\n",
    "import torch.nn.functional as F\n",
    "\n",
    "# trainloader, testloader, model = None, None, None"
   ]
  },
  {
   "cell_type": "code",
   "execution_count": 17,
   "metadata": {},
   "outputs": [
    {
     "name": "stdout",
     "output_type": "stream",
     "text": [
      "device 0 NVIDIA GeForce RTX 3060 Laptop GPU\n"
     ]
    }
   ],
   "source": [
    "# Ensure deterministic behavior\n",
    "def init_seeds(seed=0):\n",
    "    torch.manual_seed(seed) # sets the seed for generating random numbers.\n",
    "    torch.backends.cudnn.deterministic = True\n",
    "\n",
    "init_seeds(1)\n",
    "\n",
    "# Device configuration\n",
    "torch.cuda.set_device(0)\n",
    "device = torch.device(\"cuda\" if torch.cuda.is_available() else \"cpu\")\n",
    "print(\"device\", torch.cuda.current_device(), torch.cuda.get_device_name(torch.cuda.current_device()))"
   ]
  },
  {
   "cell_type": "code",
   "execution_count": 18,
   "metadata": {},
   "outputs": [
    {
     "name": "stdout",
     "output_type": "stream",
     "text": [
      "Requirement already satisfied: wandb in c:\\users\\peter\\miniconda3\\envs\\mas_deep_learning\\lib\\site-packages (0.13.4)\n",
      "Requirement already satisfied: requests<3,>=2.0.0 in c:\\users\\peter\\miniconda3\\envs\\mas_deep_learning\\lib\\site-packages (from wandb) (2.28.1)\n",
      "Requirement already satisfied: psutil>=5.0.0 in c:\\users\\peter\\miniconda3\\envs\\mas_deep_learning\\lib\\site-packages (from wandb) (5.9.2)\n",
      "Requirement already satisfied: shortuuid>=0.5.0 in c:\\users\\peter\\miniconda3\\envs\\mas_deep_learning\\lib\\site-packages (from wandb) (1.0.9)\n",
      "Requirement already satisfied: Click!=8.0.0,>=7.0 in c:\\users\\peter\\miniconda3\\envs\\mas_deep_learning\\lib\\site-packages (from wandb) (7.1.2)\n",
      "Requirement already satisfied: GitPython>=1.0.0 in c:\\users\\peter\\miniconda3\\envs\\mas_deep_learning\\lib\\site-packages (from wandb) (3.1.29)\n",
      "Requirement already satisfied: setuptools in c:\\users\\peter\\miniconda3\\envs\\mas_deep_learning\\lib\\site-packages (from wandb) (65.5.0)\n",
      "Requirement already satisfied: setproctitle in c:\\users\\peter\\miniconda3\\envs\\mas_deep_learning\\lib\\site-packages (from wandb) (1.3.2)\n",
      "Requirement already satisfied: pathtools in c:\\users\\peter\\miniconda3\\envs\\mas_deep_learning\\lib\\site-packages (from wandb) (0.1.2)\n",
      "Requirement already satisfied: sentry-sdk>=1.0.0 in c:\\users\\peter\\miniconda3\\envs\\mas_deep_learning\\lib\\site-packages (from wandb) (1.9.10)\n",
      "Requirement already satisfied: docker-pycreds>=0.4.0 in c:\\users\\peter\\miniconda3\\envs\\mas_deep_learning\\lib\\site-packages (from wandb) (0.4.0)\n",
      "Requirement already satisfied: PyYAML in c:\\users\\peter\\miniconda3\\envs\\mas_deep_learning\\lib\\site-packages (from wandb) (6.0)\n",
      "Requirement already satisfied: protobuf!=4.0.*,!=4.21.0,<5,>=3.12.0 in c:\\users\\peter\\miniconda3\\envs\\mas_deep_learning\\lib\\site-packages (from wandb) (4.21.7)\n",
      "Requirement already satisfied: six>=1.13.0 in c:\\users\\peter\\miniconda3\\envs\\mas_deep_learning\\lib\\site-packages (from wandb) (1.16.0)\n",
      "Requirement already satisfied: promise<3,>=2.0 in c:\\users\\peter\\miniconda3\\envs\\mas_deep_learning\\lib\\site-packages (from wandb) (2.3)\n",
      "Requirement already satisfied: gitdb<5,>=4.0.1 in c:\\users\\peter\\miniconda3\\envs\\mas_deep_learning\\lib\\site-packages (from GitPython>=1.0.0->wandb) (4.0.9)\n",
      "Requirement already satisfied: charset-normalizer<3,>=2 in c:\\users\\peter\\miniconda3\\envs\\mas_deep_learning\\lib\\site-packages (from requests<3,>=2.0.0->wandb) (2.1.1)\n",
      "Requirement already satisfied: certifi>=2017.4.17 in c:\\users\\peter\\miniconda3\\envs\\mas_deep_learning\\lib\\site-packages (from requests<3,>=2.0.0->wandb) (2022.9.24)\n",
      "Requirement already satisfied: urllib3<1.27,>=1.21.1 in c:\\users\\peter\\miniconda3\\envs\\mas_deep_learning\\lib\\site-packages (from requests<3,>=2.0.0->wandb) (1.26.11)\n",
      "Requirement already satisfied: idna<4,>=2.5 in c:\\users\\peter\\miniconda3\\envs\\mas_deep_learning\\lib\\site-packages (from requests<3,>=2.0.0->wandb) (3.4)\n",
      "Requirement already satisfied: smmap<6,>=3.0.1 in c:\\users\\peter\\miniconda3\\envs\\mas_deep_learning\\lib\\site-packages (from gitdb<5,>=4.0.1->GitPython>=1.0.0->wandb) (5.0.0)\n"
     ]
    }
   ],
   "source": [
    "!pip install wandb"
   ]
  },
  {
   "cell_type": "code",
   "execution_count": 19,
   "metadata": {},
   "outputs": [
    {
     "name": "stderr",
     "output_type": "stream",
     "text": [
      "wandb: WARNING Calling wandb.login() after wandb.init() has no effect.\n"
     ]
    }
   ],
   "source": [
    "import wandb\n",
    "\n",
    "wandb.login()\n",
    "os.environ[\"WANDB_API_KEY\"] = \"x\"*40\n",
    "project_name = \"Deep_Learning_HW1_MNIST\"\n",
    "test_code = \"offline\"  # \"online\" or \"disabled\"\n",
    "\n",
    "config = dict(\n",
    "    epochs          = 12,\n",
    "    batch_size      = 64,\n",
    "    test_batch_size = 1000,\n",
    "    learning_rate   = 1,\n",
    "    classes         = 10,\n",
    "    gamma           = 0.7,\n",
    "    dataset         = \"Mnist\",\n",
    "    model           = \"CNN\",\n",
    "    activation      = \"relu\",\n",
    "    optimizer       = \"Adadelta\",\n",
    "    scheduler       = \"ExponentialLR\",\n",
    ")\n",
    "class_names = ('0', '1', '2', '3', '4', '5', '6', '7', '8', '9')"
   ]
  },
  {
   "cell_type": "code",
   "execution_count": 20,
   "metadata": {},
   "outputs": [],
   "source": [
    "import matplotlib.pyplot as plt\n",
    "\n",
    "# functions to show an image\n",
    "def imshow(img):\n",
    "    img = img / 2 + 0.5     # unnormalize\n",
    "    npimg = img.numpy()\n",
    "    figure_array = np.transpose(npimg, (1, 2, 0))\n",
    "    plt.imshow(figure_array)\n",
    "    plt.show()\n",
    "\n",
    "\n",
    "def output_loader_images(loader):\n",
    "    dataiter = iter(loader)\n",
    "    images, labels = dataiter.next()\n",
    "\n",
    "    # show images\n",
    "    imshow(torchvision.utils.make_grid(images))\n",
    "    return images, labels"
   ]
  },
  {
   "cell_type": "code",
   "execution_count": 21,
   "metadata": {},
   "outputs": [],
   "source": [
    "class Net(nn.Module):\n",
    "    def one_conv(self, input_ch, output_ch):\n",
    "        seq = nn.Sequential(\n",
    "            nn.Conv2d(input_ch, output_ch, 5, bias=False),\n",
    "            nn.BatchNorm2d(output_ch),\n",
    "            nn.ReLU()\n",
    "        )\n",
    "        return seq\n",
    "    def __init__(self):\n",
    "        super(Net, self).__init__()\n",
    "        self.layer1 = self.one_conv(1, 32)\n",
    "        self.layer2 = self.one_conv(32, 64)\n",
    "        self.layer3 = self.one_conv(64, 96)\n",
    "        self.layer4 = self.one_conv(96, 128)\n",
    "        self.layer5 = self.one_conv(128, 160)\n",
    "        self.classifier = nn.Sequential(\n",
    "            nn.Linear(10240, 10, bias=False),\n",
    "            nn.BatchNorm1d(10)\n",
    "        )\n",
    "\n",
    "    def forward(self, x):\n",
    "        x = self.layer1(x)\n",
    "        x = self.layer2(x)\n",
    "        x = self.layer3(x)\n",
    "        x = self.layer4(x)\n",
    "        x = self.layer5(x)\n",
    "        x = self.classifier(torch.flatten(x.permute(0, 2, 3, 1), 1))\n",
    "        return F.log_softmax(x, dim=1)\n",
    "\n"
   ]
  },
  {
   "cell_type": "code",
   "execution_count": 22,
   "metadata": {},
   "outputs": [],
   "source": [
    "def data_shape(train_set, test_set):\n",
    "    print(train_set)\n",
    "    print(test_set)"
   ]
  },
  {
   "cell_type": "code",
   "execution_count": 23,
   "metadata": {},
   "outputs": [],
   "source": [
    "import torch.optim as optim\n",
    "\n",
    "def make(config):\n",
    "    train_kwargs = {'batch_size': config.batch_size,\n",
    "                    'num_workers': 4,\n",
    "                    'pin_memory': True,\n",
    "                    'shuffle': True}\n",
    "    test_kwargs  = {'batch_size': config.test_batch_size,\n",
    "                    'num_workers': 4,\n",
    "                    'pin_memory': True,\n",
    "                    'shuffle': True}\n",
    "\n",
    "    transform = transforms.Compose([transforms.ToTensor(),\n",
    "                                    transforms.Normalize((0.1307,), (0.3081,))])\n",
    "\n",
    "    trainset = torchvision.datasets.MNIST(root='./data', train=True, download=True, transform=transform)\n",
    "    trainloader = torch.utils.data.DataLoader(trainset, **train_kwargs)\n",
    "    \n",
    "    testset = torchvision.datasets.MNIST(root='./data', train=False, download=True, transform=transform)\n",
    "    testloader = torch.utils.data.DataLoader(testset, **test_kwargs)\n",
    "\n",
    "    if test_code == 'disabled':\n",
    "        data_shape(trainset, testset)\n",
    "        \n",
    "        _, labels = output_loader_images(trainloader)\n",
    "        # print labels\n",
    "        print('labels: ', ' '.join('%5s' % class_names[labels[j]] for j in range(64)))\n",
    "\n",
    "    # Make the model\n",
    "    model = Net().to(device)\n",
    "\n",
    "    # Make the loss and optimizer\n",
    "    criterion = nn.CrossEntropyLoss()\n",
    "    optimizer = optim.Adadelta(model.parameters(), lr=config.learning_rate)\n",
    "    scheduler = optim.lr_scheduler.ExponentialLR(optimizer, gamma=config.gamma)\n",
    "    \n",
    "    return model, criterion, optimizer, scheduler, trainloader, testloader"
   ]
  },
  {
   "cell_type": "code",
   "execution_count": 24,
   "metadata": {},
   "outputs": [],
   "source": [
    "def test(model, test_loader, criterion):\n",
    "    model.eval()\n",
    "\n",
    "    correct, total, test_loss = 0, 0, 0\n",
    "    with torch.no_grad():\n",
    "        for data in test_loader:\n",
    "            images, labels = data[0].to(device), data[1].to(device)\n",
    "            outputs = model(images)\n",
    "            test_loss += criterion(outputs, labels).item()\n",
    "            pred = outputs.argmax(dim=1, keepdim=True)\n",
    "            correct += pred.eq(labels.view_as(pred)).sum().item()\n",
    "\n",
    "        test_loss /= len(test_loader)\n",
    "        test_accuracy = 100. * correct / len(test_loader.dataset)\n",
    "        print('\\nTesting set:')\n",
    "        print('Average loss: {:.4f}, Accuracy: {}/{} ({:.2f}%)\\n'.format(\n",
    "        test_loss, correct, len(test_loader.dataset), test_accuracy))"
   ]
  },
  {
   "cell_type": "code",
   "execution_count": 25,
   "metadata": {},
   "outputs": [],
   "source": [
    "def train(model, device, optimizer, criterion, scheduler, config, train_loader, test_loader):\n",
    "    # Tell wandb to watch what the model gets up to: gradients, weights, and more!\n",
    "    wandb.watch(model, criterion, log=\"all\", log_freq=10)\n",
    "\n",
    "    start_time = time.time()\n",
    "    running_loss = 0\n",
    "    running_loss_list = []\n",
    "    for epoch in range(config.epochs):\n",
    "        for i, data in enumerate(train_loader, 0):\n",
    "            \n",
    "            # get the inputs\n",
    "            inputs, labels = data[0].to(device), data[1].to(device)\n",
    "\n",
    "            # zero the parameter gradients\n",
    "            optimizer.zero_grad()\n",
    "\n",
    "            # forward + backward + optimize\n",
    "            outputs = model(inputs)\n",
    "            \n",
    "            loss = criterion(outputs, labels)\n",
    "            running_loss += loss\n",
    "            \n",
    "            loss.backward()\n",
    "            optimizer.step()\n",
    "\n",
    "            print(f\"\\rEpoch:{epoch+1:2d}  [{i+1:03}/{len(train_loader)} ({(i+1)/len(train_loader)*100:2.0f}%)], loss:{loss.item():.3f}, lr:{scheduler.get_last_lr()[0]:1.10f}\", end='')\n",
    "        print(\"\\n\")\n",
    "        scheduler.step()\n",
    "        running_loss /= len(train_loader)\n",
    "        running_loss_list.append(running_loss.item())\n",
    "    finished_training_time = time.time()-start_time\n",
    "    print(f\"\\nFinished Training for {finished_training_time:.2f} s\")\n",
    "    plt.plot(running_loss_list, 'b')\n",
    "    plt.title(\"Average Training Loss\")\n",
    "    plt.xlabel(\"Epoch\")\n",
    "    plt.ylabel(\"Loss\")"
   ]
  },
  {
   "cell_type": "markdown",
   "metadata": {},
   "source": [
    "## Main"
   ]
  },
  {
   "cell_type": "code",
   "execution_count": 26,
   "metadata": {},
   "outputs": [
    {
     "data": {
      "text/html": [
       "Changes to your `wandb` environment variables will be ignored because your `wandb` session has already started. For more information on how to modify your settings with `wandb.init()` arguments, please refer to <a href=\"https://wandb.me/wandb-init\" target=\"_blank\">the W&B docs</a>."
      ],
      "text/plain": [
       "<IPython.core.display.HTML object>"
      ]
     },
     "metadata": {},
     "output_type": "display_data"
    },
    {
     "data": {
      "text/html": [
       "Finishing last run (ID:1sco8ett) before initializing another..."
      ],
      "text/plain": [
       "<IPython.core.display.HTML object>"
      ]
     },
     "metadata": {},
     "output_type": "display_data"
    },
    {
     "data": {
      "text/html": [
       "Waiting for W&B process to finish... <strong style=\"color:green\">(success).</strong>"
      ],
      "text/plain": [
       "<IPython.core.display.HTML object>"
      ]
     },
     "metadata": {},
     "output_type": "display_data"
    },
    {
     "data": {
      "text/html": [
       "You can sync this run to the cloud by running:<br/><code>wandb sync d:\\master_course materials\\Deep Learning\\code\\2022-NYCU-AI-DL\\A0\\wandb\\offline-run-20221027_181508-1sco8ett<code>"
      ],
      "text/plain": [
       "<IPython.core.display.HTML object>"
      ]
     },
     "metadata": {},
     "output_type": "display_data"
    },
    {
     "data": {
      "text/html": [
       "Find logs at: <code>.\\wandb\\offline-run-20221027_181508-1sco8ett\\logs</code>"
      ],
      "text/plain": [
       "<IPython.core.display.HTML object>"
      ]
     },
     "metadata": {},
     "output_type": "display_data"
    },
    {
     "data": {
      "text/html": [
       "Successfully finished last run (ID:1sco8ett). Initializing new run:<br/>"
      ],
      "text/plain": [
       "<IPython.core.display.HTML object>"
      ]
     },
     "metadata": {},
     "output_type": "display_data"
    },
    {
     "data": {
      "text/html": [
       "Tracking run with wandb version 0.13.4"
      ],
      "text/plain": [
       "<IPython.core.display.HTML object>"
      ]
     },
     "metadata": {},
     "output_type": "display_data"
    },
    {
     "data": {
      "text/html": [
       "W&B syncing is set to <code>`offline`<code> in this directory.  <br/>Run <code>`wandb online`<code> or set <code>WANDB_MODE=online<code> to enable cloud syncing."
      ],
      "text/plain": [
       "<IPython.core.display.HTML object>"
      ]
     },
     "metadata": {},
     "output_type": "display_data"
    },
    {
     "name": "stdout",
     "output_type": "stream",
     "text": [
      "Epoch: 1  [938/938 (100%)], loss:0.103, lr:1.0000000000\n",
      "\n",
      "Epoch: 2  [938/938 (100%)], loss:0.130, lr:0.7000000000\n",
      "\n",
      "Epoch: 3  [938/938 (100%)], loss:0.014, lr:0.4900000000\n",
      "\n",
      "Epoch: 4  [938/938 (100%)], loss:0.005, lr:0.3430000000\n",
      "\n",
      "Epoch: 5  [938/938 (100%)], loss:0.061, lr:0.2401000000\n",
      "\n",
      "Epoch: 6  [938/938 (100%)], loss:0.018, lr:0.1680700000\n",
      "\n",
      "Epoch: 7  [938/938 (100%)], loss:0.005, lr:0.1176490000\n",
      "\n",
      "Epoch: 8  [938/938 (100%)], loss:0.014, lr:0.0823543000\n",
      "\n",
      "Epoch: 9  [938/938 (100%)], loss:0.003, lr:0.0576480100\n",
      "\n",
      "Epoch:10  [938/938 (100%)], loss:0.005, lr:0.0403536070\n",
      "\n",
      "Epoch:11  [938/938 (100%)], loss:0.002, lr:0.0282475249\n",
      "\n",
      "Epoch:12  [938/938 (100%)], loss:0.008, lr:0.0197732674\n",
      "\n",
      "\n",
      "Finished Training for 444.15 s\n",
      "\n",
      "Test set:\n",
      "\n",
      "Average loss: 0.0150, Accuracy: 9958/10000 (99.58%)\n",
      "\n"
     ]
    },
    {
     "data": {
      "image/png": "[encoded data removed]",
      "text/plain": [
       "<Figure size 640x480 with 1 Axes>"
      ]
     },
     "metadata": {},
     "output_type": "display_data"
    }
   ],
   "source": [
    "# tell wandb to get started\n",
    "run = wandb.init(project=project_name, config=config, save_code=True, mode=test_code)\n",
    "\n",
    "# access all HPs through wandb.config, so logging matches execution!\n",
    "config = run.config\n",
    "\n",
    "# make the model, data, and optimization problem\n",
    "model, criterion, optimizer, scheduler, trainloader, testloader = make(config)\n",
    "\n",
    "# and use them to train the model\n",
    "train(model, device, optimizer, criterion, scheduler, config, trainloader, testloader)\n",
    "\n",
    "# and test its final performance\n",
    "test(model, testloader, criterion)"
   ]
  },
  {
   "cell_type": "markdown",
   "metadata": {},
   "source": [
    "## Display the confusion matrix as a heatmap"
   ]
  },
  {
   "cell_type": "code",
   "execution_count": 27,
   "metadata": {},
   "outputs": [],
   "source": [
    "class_correct = list(0. for i in range(10))\n",
    "class_total = list(0. for i in range(10))\n",
    "preds = np.zeros((1))\n",
    "truth = np.zeros((1))\n",
    "\n",
    "model.eval()\n",
    "with torch.no_grad():\n",
    "    for i, data in enumerate(testloader):\n",
    "        images, labels = data[0].to(device), data[1].to(device)\n",
    "        outputs = model(images.to(device))\n",
    "        pred = outputs.argmax(dim=1)\n",
    "        c = pred.eq(labels.view_as(pred)).squeeze()\n",
    "        preds = np.concatenate([preds, pred.cpu().numpy()], axis=0)\n",
    "        truth = np.concatenate([truth, labels.cpu().numpy()], axis=0)"
   ]
  },
  {
   "cell_type": "code",
   "execution_count": 28,
   "metadata": {
    "colab": {
     "base_uri": "https://localhost:8080/",
     "height": 406
    },
    "id": "dNBW6KIe-pcE",
    "outputId": "4fc0a4dd-9481-487b-f100-b627584d2a22"
   },
   "outputs": [
    {
     "data": {
      "image/png": "[encoded data removed]",
      "text/plain": [
       "<Figure size 900x600 with 2 Axes>"
      ]
     },
     "metadata": {},
     "output_type": "display_data"
    }
   ],
   "source": [
    "import pandas as pd\n",
    "import seaborn as sns\n",
    "from sklearn.metrics import confusion_matrix\n",
    "import PIL.Image as Image\n",
    "import io\n",
    "# Display the confusion matrix as a heatmap\n",
    "arr = confusion_matrix(truth, preds)\n",
    "df_cm = pd.DataFrame(arr, class_names, class_names)\n",
    "fig = plt.figure(figsize = (9,6))\n",
    "sns.heatmap(df_cm, annot=True, fmt=\"d\", cmap='BuGn')\n",
    "plt.xlabel(\"prediction\")\n",
    "plt.ylabel(\"label (ground truth)\")\n",
    "\n",
    "img_buf = io.BytesIO()\n",
    "plt.savefig(img_buf, format = \"png\")\n",
    "im = Image.open(img_buf)\n",
    "wandb.log({\"figure\": wandb.Image(im, caption=\"heatmap\")})\n",
    "img_buf.close()\n"
   ]
  },
  {
   "cell_type": "markdown",
   "metadata": {
    "id": "Vj0eQ9PNRLVp"
   },
   "source": [
    "## Some multi-class performance report defined from Scikit-learn"
   ]
  },
  {
   "cell_type": "code",
   "execution_count": 29,
   "metadata": {
    "colab": {
     "base_uri": "https://localhost:8080/"
    },
    "id": "OkSW5zumAX05",
    "outputId": "6304cfd2-dabd-4e4c-a0f2-ee85872749ac"
   },
   "outputs": [
    {
     "name": "stdout",
     "output_type": "stream",
     "text": [
      "              precision    recall  f1-score   support\n",
      "\n",
      "           0       0.99      1.00      1.00       981\n",
      "           1       0.99      1.00      1.00      1135\n",
      "           2       1.00      0.99      1.00      1032\n",
      "           3       0.99      1.00      0.99      1010\n",
      "           4       1.00      1.00      1.00       982\n",
      "           5       1.00      0.99      0.99       892\n",
      "           6       1.00      0.99      0.99       958\n",
      "           7       1.00      0.99      1.00      1028\n",
      "           8       1.00      1.00      1.00       974\n",
      "           9       1.00      0.99      1.00      1009\n",
      "\n",
      "    accuracy                           1.00     10001\n",
      "   macro avg       1.00      1.00      1.00     10001\n",
      "weighted avg       1.00      1.00      1.00     10001\n",
      "\n"
     ]
    }
   ],
   "source": [
    "from sklearn.metrics import classification_report\n",
    "print(classification_report(truth, preds, target_names=class_names))"
   ]
  },
  {
   "cell_type": "code",
   "execution_count": 30,
   "metadata": {},
   "outputs": [
    {
     "data": {
      "text/html": [
       "Waiting for W&B process to finish... <strong style=\"color:green\">(success).</strong>"
      ],
      "text/plain": [
       "<IPython.core.display.HTML object>"
      ]
     },
     "metadata": {},
     "output_type": "display_data"
    },
    {
     "data": {
      "text/html": [
       "You can sync this run to the cloud by running:<br/><code>wandb sync d:\\master_course materials\\Deep Learning\\code\\2022-NYCU-AI-DL\\A0\\wandb\\offline-run-20221027_181616-3k7hl9b6<code>"
      ],
      "text/plain": [
       "<IPython.core.display.HTML object>"
      ]
     },
     "metadata": {},
     "output_type": "display_data"
    },
    {
     "data": {
      "text/html": [
       "Find logs at: <code>.\\wandb\\offline-run-20221027_181616-3k7hl9b6\\logs</code>"
      ],
      "text/plain": [
       "<IPython.core.display.HTML object>"
      ]
     },
     "metadata": {},
     "output_type": "display_data"
    }
   ],
   "source": [
    "run.finish()"
   ]
  }
 ],
 "metadata": {
  "kernelspec": {
   "display_name": "Python 3.8.13 ('mas_deep_learning')",
   "language": "python",
   "name": "python3"
  },
  "language_info": {
   "codemirror_mode": {
    "name": "ipython",
    "version": 3
   },
   "file_extension": ".py",
   "mimetype": "text/x-python",
   "name": "python",
   "nbconvert_exporter": "python",
   "pygments_lexer": "ipython3",
   "version": "3.8.13"
  },
  "vscode": {
   "interpreter": {
    "hash": "1b78e932638e08554df05c20af87637e4b1aca929fdb8a300e51156ee9428db4"
   }
  }
 },
 "nbformat": 4,
 "nbformat_minor": 0
}
