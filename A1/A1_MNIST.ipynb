{
 "accelerator": "GPU",
 "cells": [
  {
   "cell_type": "code",
   "execution_count": 24,
   "metadata": {},
   "outputs": [],
   "source": [
    "%matplotlib inline\n",
    "import os\n",
    "import random\n",
    "import time\n",
    "\n",
    "import torch\n",
    "import torchvision\n",
    "import torchvision.transforms as transforms\n",
    "import numpy as np\n",
    "import torch.nn as nn\n",
    "import torch.nn.functional as F\n",
    "\n",
    "# trainloader, testloader, model = None, None, None"
   ]
  },
  {
   "cell_type": "code",
   "execution_count": 25,
   "metadata": {},
   "outputs": [
    {
     "name": "stdout",
     "output_type": "stream",
     "text": [
      "device 0 NVIDIA GeForce RTX 3060 Laptop GPU\n"
     ]
    }
   ],
   "source": [
    "# Ensure deterministic behavior\n",
    "def init_seeds(seed=0):\n",
    "    torch.manual_seed(seed) # sets the seed for generating random numbers.\n",
    "    torch.backends.cudnn.deterministic = True\n",
    "\n",
    "init_seeds(1)\n",
    "\n",
    "# Device configuration\n",
    "torch.cuda.set_device(0)\n",
    "device = torch.device(\"cuda\" if torch.cuda.is_available() else \"cpu\")\n",
    "print(\"device\", torch.cuda.current_device(), torch.cuda.get_device_name(torch.cuda.current_device()))"
   ]
  },
  {
   "cell_type": "code",
   "execution_count": 26,
   "metadata": {},
   "outputs": [
    {
     "name": "stderr",
     "output_type": "stream",
     "text": [
      "\u001b[34m\u001b[1mwandb\u001b[0m: \u001b[33mWARNING\u001b[0m Calling wandb.login() after wandb.init() has no effect.\n"
     ]
    }
   ],
   "source": [
    "import wandb\n",
    "wandb.login()\n",
    "os.environ[\"WANDB_API_KEY\"] = \"x\"*40\n",
    "\n",
    "config = dict(\n",
    "    epochs          = 20,\n",
    "    batch_size      = 64,\n",
    "    test_batch_size = 1000,\n",
    "    learning_rate   = 1,\n",
    "    classes         = 10,\n",
    "    gamma           = 0.7,\n",
    "    dataset         = \"Mnist\",\n",
    "    model           = \"CNN\",\n",
    "    activation      = \"relu\",\n",
    "    optimizer       = \"Adadelta\",\n",
    "    scheduler       = \"ExponentialLR\",\n",
    ")\n",
    "\n",
    "wandb_init = dict(\n",
    "#     job_type: Optional[str] = None,\n",
    "#     dir = None,\n",
    "    config = config,\n",
    "    project = \"Deep_Learning_HW1_MNIST\",\n",
    "#     entity = None,\n",
    "#     reinit = None,\n",
    "    # tags = ['wgan_gp_1v1'],\n",
    "#     group = None,\n",
    "    name = None,\n",
    "    notes = None,\n",
    "#     magic = None,\n",
    "#     config_exclude_keys = None,\n",
    "#     config_include_keys = None,\n",
    "#     anonymous = None,\n",
    "    mode = \"disabled\",  # \"online\",\"offline\",\"disabled\"\n",
    "#     allow_val_change = None,\n",
    "#     resume = None,\n",
    "#     force = None,\n",
    "#     tensorboard = None,\n",
    "#     sync_tensorboard = None,\n",
    "#     monitor_gym = None,\n",
    "    save_code = True,\n",
    "#     settings=None\n",
    ")\n",
    "class_names = ('0', '1', '2', '3', '4', '5', '6', '7', '8', '9')"
   ]
  },
  {
   "cell_type": "code",
   "execution_count": 27,
   "metadata": {},
   "outputs": [],
   "source": [
    "import matplotlib.pyplot as plt\n",
    "\n",
    "# functions to show an image\n",
    "def imshow(img):\n",
    "    img = img / 2 + 0.5     # unnormalize\n",
    "    npimg = img.numpy()\n",
    "    figure_array = np.transpose(npimg, (1, 2, 0))\n",
    "    fig_o, ax_o = plt.subplots()\n",
    "    ax_o.imshow(np.clip(figure_array, 0, 1))\n",
    "    ax_o.get_xaxis().set_visible(False)\n",
    "    ax_o.get_yaxis().set_visible(False)\n",
    "    plt.show()\n",
    "\n",
    "\n",
    "def output_loader_images(loader):\n",
    "    dataiter = iter(loader)\n",
    "    images, labels = dataiter.next()\n",
    "\n",
    "    # show images\n",
    "    imshow(torchvision.utils.make_grid(images[:4]))\n",
    "    print('labels: ', ' '.join('%5s' % class_names[labels[j]] for j in range(4)))\n",
    "    return images, labels\n",
    "\n",
    "class AverageMeter(object):\n",
    "    def __init__(self):\n",
    "        self.reset()\n",
    "\n",
    "    def reset(self):\n",
    "        self.val = 0\n",
    "        self.avg = 0\n",
    "        self.sum = 0\n",
    "        self.count = 0\n",
    "\n",
    "    def update(self, val, n=1):\n",
    "        self.val = val\n",
    "        self.sum += val * n\n",
    "        self.count += n\n",
    "        self.avg = self.sum / self.count"
   ]
  },
  {
   "cell_type": "code",
   "execution_count": 28,
   "metadata": {},
   "outputs": [],
   "source": [
    "class Net(nn.Module):\n",
    "    def one_conv(self, input_ch, output_ch):\n",
    "        seq = nn.Sequential(\n",
    "            nn.Conv2d(input_ch, output_ch, 5, bias=False),\n",
    "            nn.BatchNorm2d(output_ch),\n",
    "            nn.ReLU()\n",
    "        )\n",
    "        return seq\n",
    "    def __init__(self):\n",
    "        super(Net, self).__init__()\n",
    "        self.layer1 = self.one_conv(1, 32)\n",
    "        self.layer2 = self.one_conv(32, 64)\n",
    "        self.layer3 = self.one_conv(64, 96)\n",
    "        self.layer4 = self.one_conv(96, 128)\n",
    "        self.layer5 = self.one_conv(128, 160)\n",
    "        self.classifier = nn.Sequential(\n",
    "            nn.Linear(10240, 10, bias=False),\n",
    "            nn.BatchNorm1d(10)\n",
    "        )\n",
    "\n",
    "    def forward(self, x):\n",
    "        x = self.layer1(x)\n",
    "        x = self.layer2(x)\n",
    "        x = self.layer3(x)\n",
    "        x = self.layer4(x)\n",
    "        x = self.layer5(x)\n",
    "        x = self.classifier(torch.flatten(x.permute(0, 2, 3, 1), 1))\n",
    "        return F.log_softmax(x, dim=1)\n",
    "\n"
   ]
  },
  {
   "cell_type": "code",
   "execution_count": 29,
   "metadata": {},
   "outputs": [],
   "source": [
    "import torch.optim as optim\n",
    "\n",
    "def make(config):\n",
    "    train_kwargs = {'batch_size': config[\"batch_size\"],\n",
    "                    'num_workers': 4,\n",
    "                    'pin_memory': True,\n",
    "                    'shuffle': True}\n",
    "    test_kwargs  = {'batch_size': config[\"test_batch_size\"],\n",
    "                    'num_workers': 4,\n",
    "                    'pin_memory': True,\n",
    "                    'shuffle': True}\n",
    "\n",
    "    transform = transforms.Compose([transforms.ToTensor(),\n",
    "                                    transforms.Normalize((0.1307,), (0.3081,))])\n",
    "\n",
    "    trainset = torchvision.datasets.MNIST(root='./data', train=True, download=True, transform=transform)\n",
    "    trainloader = torch.utils.data.DataLoader(trainset, **train_kwargs)\n",
    "    \n",
    "    testset = torchvision.datasets.MNIST(root='./data', train=False, download=True, transform=transform)\n",
    "    testloader = torch.utils.data.DataLoader(testset, **test_kwargs)\n",
    "\n",
    "    # Make the model\n",
    "    model = Net().to(device)\n",
    "\n",
    "    # Make the loss and optimizer\n",
    "    criterion = nn.CrossEntropyLoss()\n",
    "    optimizer = optim.Adadelta(model.parameters(), lr=config[\"learning_rate\"])\n",
    "    scheduler = optim.lr_scheduler.ExponentialLR(optimizer, gamma=config[\"gamma\"])\n",
    "    \n",
    "    return model, criterion, optimizer, scheduler, trainloader, testloader"
   ]
  },
  {
   "cell_type": "code",
   "execution_count": 30,
   "metadata": {},
   "outputs": [],
   "source": [
    "def test(model, test_loader, criterion):\n",
    "    model.eval()\n",
    "\n",
    "    correct, total, test_loss = 0, 0, 0\n",
    "    with torch.no_grad():\n",
    "        for i, data in enumerate(test_loader):\n",
    "            images, labels = data[0].to(device), data[1].to(device)\n",
    "            outputs = model(images)\n",
    "            test_loss += criterion(outputs, labels).item()\n",
    "            pred = outputs.argmax(dim=1, keepdim=True)\n",
    "            correct += pred.eq(labels.view_as(pred)).sum().item()\n",
    "\n",
    "            if i == len(test_loader) - 1:\n",
    "                imshow(torchvision.utils.make_grid(images[:4].cpu()))\n",
    "                print('labels: ', ' '.join('%5s' % class_names[labels[j]] for j in range(4)))\n",
    "\n",
    "        test_loss /= len(test_loader)\n",
    "        test_accuracy = 100. * correct / len(test_loader.dataset)\n",
    "        print('\\nTesting set:')\n",
    "        print('Average loss: {:.4f}, Accuracy: {}/{} ({:.2f}%)\\n'.format(\n",
    "        test_loss, correct, len(test_loader.dataset), test_accuracy))"
   ]
  },
  {
   "cell_type": "code",
   "execution_count": 31,
   "metadata": {},
   "outputs": [],
   "source": [
    "def train(model, device, optimizer, criterion, scheduler, config, train_loader, test_loader):\n",
    "    # Tell wandb to watch what the model gets up to: gradients, weights, and more!\n",
    "    wandb.watch(model, criterion, log=\"all\", log_freq=10)\n",
    "\n",
    "    start_time = time.time()\n",
    "    running_loss_avg = AverageMeter()\n",
    "    running_loss = 0\n",
    "    running_loss_list = []\n",
    "    for epoch in range(config[\"epochs\"]):\n",
    "        for i, data in enumerate(train_loader, 0):\n",
    "            \n",
    "            # get the inputs\n",
    "            inputs, labels = data[0].to(device), data[1].to(device)\n",
    "\n",
    "            # zero the parameter gradients\n",
    "            optimizer.zero_grad()\n",
    "\n",
    "            # forward + backward + optimize\n",
    "            outputs = model(inputs)\n",
    "            \n",
    "            loss = criterion(outputs, labels)\n",
    "            running_loss += loss\n",
    "            \n",
    "            loss.backward()\n",
    "            optimizer.step()\n",
    "\n",
    "            running_loss_avg.update(loss.cpu(), labels.size(0))\n",
    "\n",
    "            print(f\"\\rEpoch:{epoch+1:2d}  [{i+1:03}/{len(train_loader)} ({(i+1)/len(train_loader)*100:2.0f}%)], loss:{running_loss_avg.avg:.3f}, lr:{scheduler.get_last_lr()[0]:1.10f}\", end='')\n",
    "        print(\"\\n\")\n",
    "        scheduler.step()\n",
    "        running_loss /= len(train_loader)\n",
    "        running_loss_list.append(running_loss.item())\n",
    "    finished_training_time = time.time()-start_time\n",
    "    print(f\"\\nFinished Training for {finished_training_time:.2f} s\")\n",
    "    fig, ax = plt.subplots()\n",
    "    ax.plot(running_loss_list, 'b')\n",
    "    ax.set_title(\"Average Training Loss\")\n",
    "    ax.set_xlabel(\"Epoch\")\n",
    "    ax.set_ylabel(\"Loss\")"
   ]
  },
  {
   "cell_type": "markdown",
   "metadata": {},
   "source": [
    "## Main"
   ]
  },
  {
   "cell_type": "code",
   "execution_count": 32,
   "metadata": {},
   "outputs": [
    {
     "name": "stdout",
     "output_type": "stream",
     "text": [
      "Epoch: 1  [938/938 (100%)], loss:0.178, lr:1.0000000000\n",
      "\n",
      "Epoch: 2  [938/938 (100%)], loss:0.111, lr:0.7000000000\n",
      "\n",
      "Epoch: 3  [938/938 (100%)], loss:0.084, lr:0.4900000000\n",
      "\n",
      "Epoch: 4  [938/938 (100%)], loss:0.068, lr:0.3430000000\n",
      "\n",
      "Epoch: 5  [938/938 (100%)], loss:0.057, lr:0.2401000000\n",
      "\n",
      "Epoch: 6  [938/938 (100%)], loss:0.050, lr:0.1680700000\n",
      "\n",
      "Epoch: 7  [938/938 (100%)], loss:0.044, lr:0.1176490000\n",
      "\n",
      "Epoch: 8  [938/938 (100%)], loss:0.039, lr:0.0823543000\n",
      "\n",
      "Epoch: 9  [938/938 (100%)], loss:0.036, lr:0.0576480100\n",
      "\n",
      "Epoch:10  [938/938 (100%)], loss:0.033, lr:0.0403536070\n",
      "\n",
      "Epoch:11  [938/938 (100%)], loss:0.031, lr:0.0282475249\n",
      "\n",
      "Epoch:12  [938/938 (100%)], loss:0.029, lr:0.0197732674\n",
      "\n",
      "Epoch:13  [938/938 (100%)], loss:0.027, lr:0.0138412872\n",
      "\n",
      "Epoch:14  [938/938 (100%)], loss:0.025, lr:0.0096889010\n",
      "\n",
      "Epoch:15  [938/938 (100%)], loss:0.024, lr:0.0067822307\n",
      "\n",
      "Epoch:16  [938/938 (100%)], loss:0.023, lr:0.0047475615\n",
      "\n",
      "Epoch:17  [938/938 (100%)], loss:0.022, lr:0.0033232931\n",
      "\n",
      "Epoch:18  [938/938 (100%)], loss:0.021, lr:0.0023263051\n",
      "\n",
      "Epoch:19  [938/938 (100%)], loss:0.020, lr:0.0016284136\n",
      "\n",
      "Epoch:20  [938/938 (100%)], loss:0.019, lr:0.0011398895\n",
      "\n",
      "\n",
      "Finished Training for 962.44 s\n"
     ]
    },
    {
     "data": {
      "image/png": "[encoded data removed]",
      "text/plain": [
       "<Figure size 640x480 with 1 Axes>"
      ]
     },
     "metadata": {},
     "output_type": "display_data"
    }
   ],
   "source": [
    "# tell wandb to get started\n",
    "run = wandb.init(**wandb_init)\n",
    "\n",
    "# make the model, data, and optimization problem\n",
    "model, criterion, optimizer, scheduler, trainloader, testloader = make(config)\n",
    "\n",
    "# and use them to train the model\n",
    "train(model, device, optimizer, criterion, scheduler, config, trainloader, testloader)"
   ]
  },
  {
   "cell_type": "code",
   "execution_count": 33,
   "metadata": {},
   "outputs": [
    {
     "data": {
      "image/png": "[encoded data removed]",
      "text/plain": [
       "<Figure size 640x480 with 1 Axes>"
      ]
     },
     "metadata": {},
     "output_type": "display_data"
    },
    {
     "name": "stdout",
     "output_type": "stream",
     "text": [
      "labels:      0     5     4     0\n",
      "\n",
      "Testing set:\n",
      "Average loss: 0.0144, Accuracy: 9959/10000 (99.59%)\n",
      "\n"
     ]
    }
   ],
   "source": [
    "# and test its final performance\n",
    "test(model, testloader, criterion)"
   ]
  },
  {
   "cell_type": "markdown",
   "metadata": {},
   "source": [
    "## Display the confusion matrix as a heatmap"
   ]
  },
  {
   "cell_type": "code",
   "execution_count": 34,
   "metadata": {},
   "outputs": [],
   "source": [
    "class_correct = list(0. for i in range(10))\n",
    "class_total = list(0. for i in range(10))\n",
    "preds = np.zeros((1))\n",
    "truth = np.zeros((1))\n",
    "\n",
    "model.eval()\n",
    "with torch.no_grad():\n",
    "    for i, data in enumerate(testloader):\n",
    "        images, labels = data[0].to(device), data[1].to(device)\n",
    "        outputs = model(images.to(device))\n",
    "        pred = outputs.argmax(dim=1)\n",
    "        c = pred.eq(labels.view_as(pred)).squeeze()\n",
    "        preds = np.concatenate([preds, pred.cpu().numpy()], axis=0)\n",
    "        truth = np.concatenate([truth, labels.cpu().numpy()], axis=0)"
   ]
  },
  {
   "cell_type": "code",
   "execution_count": 35,
   "metadata": {
    "colab": {
     "base_uri": "https://localhost:8080/",
     "height": 406
    },
    "id": "dNBW6KIe-pcE",
    "outputId": "4fc0a4dd-9481-487b-f100-b627584d2a22"
   },
   "outputs": [
    {
     "data": {
      "image/png": "[encoded data removed]",
      "text/plain": [
       "<Figure size 900x600 with 2 Axes>"
      ]
     },
     "metadata": {},
     "output_type": "display_data"
    }
   ],
   "source": [
    "import pandas as pd\n",
    "import seaborn as sns\n",
    "from sklearn.metrics import confusion_matrix\n",
    "import PIL.Image as Image\n",
    "import io\n",
    "# Display the confusion matrix as a heatmap\n",
    "arr = confusion_matrix(truth, preds)\n",
    "df_cm = pd.DataFrame(arr, class_names, class_names)\n",
    "fig = plt.figure(figsize = (9,6))\n",
    "sns.heatmap(df_cm, annot=True, fmt=\"d\", cmap='BuGn')\n",
    "plt.xlabel(\"prediction\")\n",
    "plt.ylabel(\"label (ground truth)\")\n",
    "\n",
    "img_buf = io.BytesIO()\n",
    "plt.savefig(img_buf, format = \"png\")\n",
    "im = Image.open(img_buf)\n",
    "wandb.log({\"figure\": wandb.Image(im, caption=\"heatmap\")})\n",
    "img_buf.close()\n"
   ]
  },
  {
   "cell_type": "markdown",
   "metadata": {
    "id": "Vj0eQ9PNRLVp"
   },
   "source": [
    "## Some multi-class performance report defined from Scikit-learn"
   ]
  },
  {
   "cell_type": "code",
   "execution_count": 36,
   "metadata": {
    "colab": {
     "base_uri": "https://localhost:8080/"
    },
    "id": "OkSW5zumAX05",
    "outputId": "6304cfd2-dabd-4e4c-a0f2-ee85872749ac"
   },
   "outputs": [
    {
     "name": "stdout",
     "output_type": "stream",
     "text": [
      "              precision    recall  f1-score   support\n",
      "\n",
      "           0       0.99      1.00      1.00       981\n",
      "           1       0.99      1.00      1.00      1135\n",
      "           2       1.00      0.99      1.00      1032\n",
      "           3       0.99      1.00      0.99      1010\n",
      "           4       1.00      1.00      1.00       982\n",
      "           5       0.99      1.00      0.99       892\n",
      "           6       1.00      0.99      0.99       958\n",
      "           7       1.00      1.00      1.00      1028\n",
      "           8       1.00      1.00      1.00       974\n",
      "           9       1.00      0.99      1.00      1009\n",
      "\n",
      "    accuracy                           1.00     10001\n",
      "   macro avg       1.00      1.00      1.00     10001\n",
      "weighted avg       1.00      1.00      1.00     10001\n",
      "\n"
     ]
    }
   ],
   "source": [
    "from sklearn.metrics import classification_report\n",
    "print(classification_report(truth, preds, target_names=class_names))"
   ]
  },
  {
   "cell_type": "code",
   "execution_count": 37,
   "metadata": {},
   "outputs": [],
   "source": [
    "run.finish()"
   ]
  }
 ],
 "metadata": {
  "kernelspec": {
   "display_name": "Python 3.8.13 ('mas_deep_learning')",
   "language": "python",
   "name": "python3"
  },
  "language_info": {
   "codemirror_mode": {
    "name": "ipython",
    "version": 3
   },
   "file_extension": ".py",
   "mimetype": "text/x-python",
   "name": "python",
   "nbconvert_exporter": "python",
   "pygments_lexer": "ipython3",
   "version": "3.8.13"
  },
  "vscode": {
   "interpreter": {
    "hash": "1b78e932638e08554df05c20af87637e4b1aca929fdb8a300e51156ee9428db4"
   }
  }
 },
 "nbformat": 4,
 "nbformat_minor": 0
}
