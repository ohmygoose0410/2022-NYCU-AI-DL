{
 "accelerator": "GPU",
 "cells": [
  {
   "cell_type": "code",
   "execution_count": 133,
   "metadata": {},
   "outputs": [],
   "source": [
    "%matplotlib inline\n",
    "import os\n",
    "import random\n",
    "import time\n",
    "\n",
    "import torch\n",
    "import torchvision\n",
    "import torchvision.transforms as transforms\n",
    "import numpy as np\n",
    "import torch.nn as nn\n",
    "import torch.nn.functional as F"
   ]
  },
  {
   "cell_type": "code",
   "execution_count": 134,
   "metadata": {},
   "outputs": [
    {
     "name": "stdout",
     "output_type": "stream",
     "text": [
      "device 0 NVIDIA GeForce RTX 3060 Laptop GPU\n"
     ]
    }
   ],
   "source": [
    "# Ensure deterministic behavior\n",
    "def init_seeds(seed=0):\n",
    "    torch.manual_seed(seed) # sets the seed for generating random numbers.\n",
    "    torch.backends.cudnn.deterministic = True\n",
    "\n",
    "init_seeds(1)\n",
    "# Device configuration\n",
    "torch.cuda.set_device(0)\n",
    "device = torch.device(\"cuda\" if torch.cuda.is_available() else \"cpu\")\n",
    "print(\"device\", torch.cuda.current_device(), torch.cuda.get_device_name(torch.cuda.current_device()))"
   ]
  },
  {
   "cell_type": "code",
   "execution_count": 135,
   "metadata": {},
   "outputs": [],
   "source": [
    "import wandb\n",
    "\n",
    "wandb.login()\n",
    "os.environ[\"WANDB_API_KEY\"] = \"x\"*40\n",
    "\n",
    "config = dict(\n",
    "    epochs          = 3,\n",
    "    batch_size      = 100,\n",
    "    test_batch_size = 1000,\n",
    "    learning_rate   = 0.007,\n",
    "    classes         = 10,\n",
    "    gamma           = 0.9,\n",
    "    dataset         = \"Kmnist\",\n",
    "    model           = \"CNN\",\n",
    "    activation      = \"relu\",     # leaky relu/sigmoid/elu/tanh/relu\n",
    "    optimizer       = \"Adam\",\n",
    "    scheduler       = \"ExponentialLR\",\n",
    "    kernel_size     = 3,\n",
    "    padding         = 1,\n",
    "    conv_block_1    = 64,\n",
    "    conv_block_2    = 128,\n",
    "    conv_block_3    = 256,\n",
    "    conv_block_4    = 256,\n",
    ")\n",
    "\n",
    "wandb_init = dict(\n",
    "#     job_type: Optional[str] = None,\n",
    "#     dir = None,\n",
    "    config = config,\n",
    "    project = \"Deep_Learning_HW1_Kuzushiji-MNIST\",\n",
    "#     entity = None,\n",
    "#     reinit = None,\n",
    "    # tags = ['wgan_gp_1v1'],\n",
    "#     group = None,\n",
    "    name = None,\n",
    "    notes = None,\n",
    "#     magic = None,\n",
    "#     config_exclude_keys = None,\n",
    "#     config_include_keys = None,\n",
    "#     anonymous = None,\n",
    "    mode = \"disabled\",  # \"online\",\"offline\",\"disabled\"\n",
    "#     allow_val_change = None,\n",
    "#     resume = None,\n",
    "#     force = None,\n",
    "#     tensorboard = None,\n",
    "#     sync_tensorboard = None,\n",
    "#     monitor_gym = None,\n",
    "    save_code = True,\n",
    "#     settings=None\n",
    ")\n",
    "class_names = (u'\\u304A', u'\\u304D', u'\\u3059', u'\\u3064', u'\\u306A', u'\\u306F', u'\\u307E', u'\\u3084', u'\\u308C', u'\\u3092')\n",
    "class_names_eng = ('o', 'ki', 'su', 'tsu', 'na', 'ha', 'ma', 'ya', 're', 'wo')"
   ]
  },
  {
   "cell_type": "code",
   "execution_count": 150,
   "metadata": {},
   "outputs": [],
   "source": [
    "import matplotlib.pyplot as plt\n",
    "\n",
    "# functions to show an image\n",
    "def imshow(img):\n",
    "    img = img / 2 + 0.5     # unnormalize\n",
    "    npimg = img.numpy()\n",
    "    figure_array = np.transpose(npimg, (1, 2, 0))\n",
    "    fig_o, ax_o = plt.subplots()\n",
    "    ax_o.imshow(np.clip(figure_array, 0, 1))\n",
    "    ax_o.get_xaxis().set_visible(False)\n",
    "    ax_o.get_yaxis().set_visible(False)\n",
    "    plt.show()\n",
    "\n",
    "\n",
    "def output_loader_images(loader):\n",
    "    dataiter = iter(loader)\n",
    "    images, labels = dataiter.next()\n",
    "\n",
    "    # show images\n",
    "    imshow(torchvision.utils.make_grid(images[:4]))\n",
    "    print('labels: ', ' '.join('%5s' % class_names_eng[labels[j]] for j in range(4)))\n",
    "    return images, labels"
   ]
  },
  {
   "cell_type": "code",
   "execution_count": 137,
   "metadata": {},
   "outputs": [],
   "source": [
    "class AverageMeter(object):\n",
    "    def __init__(self):\n",
    "        self.reset()\n",
    "\n",
    "    def reset(self):\n",
    "        self.val = 0\n",
    "        self.avg = 0\n",
    "        self.sum = 0\n",
    "        self.count = 0\n",
    "\n",
    "    def update(self, val, n=1):\n",
    "        self.val = val\n",
    "        self.sum += val * n\n",
    "        self.count += n\n",
    "        self.avg = self.sum / self.count"
   ]
  },
  {
   "cell_type": "code",
   "execution_count": 138,
   "metadata": {},
   "outputs": [],
   "source": [
    "import math\n",
    "\n",
    "class Net(nn.Module):\n",
    "    def two_conv(self, input_ch, output_ch_1, output_ch_2):\n",
    "        seq = nn.Sequential(\n",
    "            nn.Conv2d(input_ch, output_ch_1, kernel_size=3, stride=1, padding=1),\n",
    "            nn.BatchNorm2d(output_ch_1),\n",
    "            nn.ReLU(),\n",
    "            nn.Conv2d(output_ch_1, output_ch_2, kernel_size=3, stride=1, padding=1),\n",
    "            nn.BatchNorm2d(output_ch_2),\n",
    "            nn.ReLU(),\n",
    "            nn.MaxPool2d(kernel_size=2, stride=2),\n",
    "        )\n",
    "        for mod in seq.children():\n",
    "            if isinstance(mod, nn.Conv2d):\n",
    "                n = mod.kernel_size[0] * mod.kernel_size[1] * mod.out_channels\n",
    "                mod.weight.data.normal_(0, math.sqrt(2. / n))\n",
    "            elif isinstance(mod, nn.BatchNorm2d):\n",
    "                mod.weight.data.fill_(1)\n",
    "                mod.bias.data.zero_()\n",
    "        return seq\n",
    "    def three_conv(self,input_ch, output_ch_1, output_ch_2, output_ch_3):\n",
    "        seq = nn.Sequential(\n",
    "            nn.Conv2d(input_ch, output_ch_1, kernel_size=3, stride=1, padding=1),\n",
    "            nn.BatchNorm2d(output_ch_1),\n",
    "            nn.ReLU(),\n",
    "            nn.Conv2d(output_ch_1, output_ch_2, kernel_size=3, stride=1, padding=1),\n",
    "            nn.BatchNorm2d(output_ch_2),\n",
    "            nn.ReLU(),\n",
    "            nn.Conv2d(output_ch_2, output_ch_3, kernel_size=3, stride=1, padding=1),\n",
    "            nn.BatchNorm2d(output_ch_3),\n",
    "            nn.ReLU(),\n",
    "            nn.MaxPool2d(kernel_size=2, stride=2),\n",
    "        )\n",
    "        for m in seq.children():\n",
    "            if isinstance(m, nn.Conv2d):\n",
    "                n = m.kernel_size[0] * m.kernel_size[1] * m.out_channels\n",
    "                m.weight.data.normal_(0, math.sqrt(2. / n))\n",
    "            elif isinstance(m, nn.BatchNorm2d):\n",
    "                m.weight.data.fill_(1)\n",
    "                m.bias.data.zero_()\n",
    "        return seq\n",
    "        \n",
    "    def __init__(self):\n",
    "        super(Net, self).__init__()\n",
    "        self.layer1 = self.two_conv(1, 64, 64)\n",
    "        self.layer2 = self.two_conv(64, 128, 128)\n",
    "        self.layer3 = self.three_conv(128, 256, 256, 256)\n",
    "        self.layer4 = self.three_conv(256, 256, 256, 256)\n",
    "        \n",
    "        self.classifier = nn.Sequential(\n",
    "            nn.Dropout(p = 0.5),\n",
    "            nn.Linear(256, 512),\n",
    "            nn.BatchNorm1d(512),\n",
    "            nn.ReLU(inplace=True),\n",
    "            nn.Dropout(p = 0.5),\n",
    "            nn.Linear(512, 10),\n",
    "        )\n",
    "    \n",
    "    def forward(self, x):\n",
    "        x = self.layer1(x)\n",
    "        x = self.layer2(x)\n",
    "        x = self.layer3(x)\n",
    "        x = self.layer4(x)\n",
    "        x = x.view(x.size(0), -1)\n",
    "        x = self.classifier(x)\n",
    "        return F.log_softmax(x, dim=1)"
   ]
  },
  {
   "cell_type": "code",
   "execution_count": 139,
   "metadata": {},
   "outputs": [],
   "source": [
    "import torch.optim as optim\n",
    "\n",
    "def make(config):\n",
    "    train_kwargs = {'batch_size': config[\"batch_size\"],\n",
    "                    'num_workers': 4,\n",
    "                    'pin_memory': True,\n",
    "                    'shuffle': True}\n",
    "    test_kwargs  = {'batch_size': config[\"test_batch_size\"],\n",
    "                    'num_workers': 4,\n",
    "                    'pin_memory': True,\n",
    "                    'shuffle': True}\n",
    "\n",
    "    transform = transforms.Compose([transforms.ToTensor(),\n",
    "                                    transforms.Normalize((0.1307,), (0.3081,))])\n",
    "\n",
    "    trainset = torchvision.datasets.KMNIST(root='./data', train=True, download=True, transform=transform)\n",
    "    trainloader = torch.utils.data.DataLoader(trainset, **train_kwargs)\n",
    "    \n",
    "    testset = torchvision.datasets.KMNIST(root='./data', train=False, download=True, transform=transform)\n",
    "    testloader = torch.utils.data.DataLoader(testset, **test_kwargs)\n",
    "\n",
    "    \n",
    "\n",
    "    # Make the model\n",
    "    model = Net().to(device)\n",
    "\n",
    "    # Make the loss and optimizer\n",
    "    criterion = nn.CrossEntropyLoss()\n",
    "    optimizer = optim.Adam(model.parameters(), lr=config[\"learning_rate\"])\n",
    "    scheduler = optim.lr_scheduler.ExponentialLR(optimizer, gamma=config[\"gamma\"])\n",
    "    \n",
    "    return model, criterion, optimizer, scheduler, trainloader, testloader"
   ]
  },
  {
   "cell_type": "code",
   "execution_count": 140,
   "metadata": {},
   "outputs": [],
   "source": [
    "def test(model, test_loader, criterion):\n",
    "    model.eval()\n",
    "\n",
    "    correct, total, test_loss = 0, 0, 0\n",
    "    with torch.no_grad():\n",
    "        for i,data in enumerate(test_loader):\n",
    "            images, labels = data[0].to(device), data[1].to(device)\n",
    "            outputs = model(images)\n",
    "            test_loss += criterion(outputs, labels).item()\n",
    "            pred = outputs.argmax(dim=1, keepdim=True)\n",
    "            correct += pred.eq(labels.view_as(pred)).sum().item()\n",
    "\n",
    "            if i == len(test_loader) - 1:\n",
    "                imshow(torchvision.utils.make_grid(images[:4].cpu()))\n",
    "                print('labels: ', ' '.join('%5s' % class_names_eng[labels[j]] for j in range(4)))\n",
    "\n",
    "        test_loss /= len(test_loader)\n",
    "        test_accuracy = 100. * correct / len(test_loader.dataset)\n",
    "        print('\\nTest set:')\n",
    "        print('Average loss: {:.4f}, Accuracy: {}/{} ({:.2f}%)\\n'.format(\n",
    "        test_loss, correct, len(test_loader.dataset), test_accuracy))"
   ]
  },
  {
   "cell_type": "code",
   "execution_count": 141,
   "metadata": {},
   "outputs": [],
   "source": [
    "def train(model, device, optimizer, criterion, scheduler, config, train_loader, test_loader):\n",
    "    # Tell wandb to watch what the model gets up to: gradients, weights, and more!\n",
    "    wandb.watch(model, criterion, log=\"all\", log_freq=10)\n",
    "\n",
    "    start_time = time.time()\n",
    "    running_loss_avg = AverageMeter()\n",
    "    running_loss = 0\n",
    "    running_loss_list = []\n",
    "    for epoch in range(config[\"epochs\"]):\n",
    "        for i, data in enumerate(train_loader, 0):\n",
    "            \n",
    "            # get the inputs\n",
    "            inputs, labels = data[0].to(device), data[1].to(device)\n",
    "\n",
    "            # zero the parameter gradients\n",
    "            optimizer.zero_grad()\n",
    "\n",
    "            # forward + backward + optimize\n",
    "            outputs = model(inputs)\n",
    "            \n",
    "            loss = criterion(outputs, labels)\n",
    "            running_loss += loss\n",
    "            loss.backward()\n",
    "            optimizer.step()\n",
    "\n",
    "            running_loss_avg.update(loss.cpu(), labels.size(0))\n",
    "\n",
    "            print(f\"\\rEpoch:{epoch+1:2d}  [{i+1:03}/{len(train_loader)} ({(i+1)/len(train_loader)*100:2.0f}%)], loss:{running_loss_avg.avg:.3f}, lr:{scheduler.get_last_lr()[0]:1.10f}\", end='')\n",
    "        print(\"\\n\")\n",
    "        scheduler.step()\n",
    "        running_loss /= len(train_loader)\n",
    "        running_loss_list.append(running_loss.item())\n",
    "    finished_training_time = time.time()-start_time\n",
    "    print(f\"\\nFinished Training for {finished_training_time:.2f} s\")\n",
    "    fig, ax = plt.subplots()\n",
    "    ax.plot(running_loss_list, 'b')\n",
    "    ax.set_title(\"Average Training Loss\")\n",
    "    ax.set_xlabel(\"Epoch\")\n",
    "    ax.set_ylabel(\"Loss\")\n",
    "    ax.set_xticks([0,3,6,9,12,15,18,21])"
   ]
  },
  {
   "cell_type": "markdown",
   "metadata": {},
   "source": [
    "## Main"
   ]
  },
  {
   "cell_type": "code",
   "execution_count": 142,
   "metadata": {},
   "outputs": [
    {
     "data": {
      "text/html": [
       "Changes to your `wandb` environment variables will be ignored because your `wandb` session has already started. For more information on how to modify your settings with `wandb.init()` arguments, please refer to <a href=\"https://wandb.me/wandb-init\" target=\"_blank\">the W&B docs</a>."
      ],
      "text/plain": [
       "<IPython.core.display.HTML object>"
      ]
     },
     "metadata": {},
     "output_type": "display_data"
    },
    {
     "name": "stdout",
     "output_type": "stream",
     "text": [
      "Epoch: 1  [600/600 (100%)], loss:0.392, lr:0.0070000000\n",
      "\n",
      "Epoch: 2  [600/600 (100%)], loss:0.238, lr:0.0063000000\n",
      "\n",
      "Epoch: 3  [600/600 (100%)], loss:0.178, lr:0.0056700000\n",
      "\n",
      "\n",
      "Finished Training for 61.33 s\n"
     ]
    },
    {
     "data": {
      "image/png": "[encoded data removed]",
      "text/plain": [
       "<Figure size 640x480 with 1 Axes>"
      ]
     },
     "metadata": {},
     "output_type": "display_data"
    }
   ],
   "source": [
    "# tell wandb to get started\n",
    "run = wandb.init(**wandb_init)\n",
    "\n",
    "# make the model, data, and optimization problem\n",
    "model, criterion, optimizer, scheduler, trainloader, testloader = make(config)\n",
    "\n",
    "# and use them to train the model\n",
    "train(model, device, optimizer, criterion, scheduler, config, trainloader, testloader)"
   ]
  },
  {
   "cell_type": "code",
   "execution_count": 151,
   "metadata": {},
   "outputs": [
    {
     "data": {
      "image/png": "[encoded data removed]",
      "text/plain": [
       "<Figure size 640x480 with 1 Axes>"
      ]
     },
     "metadata": {},
     "output_type": "display_data"
    },
    {
     "name": "stdout",
     "output_type": "stream",
     "text": [
      "labels:      o   tsu   tsu    su\n",
      "\n",
      "Test set:\n",
      "Average loss: 0.1741, Accuracy: 9562/10000 (95.62%)\n",
      "\n"
     ]
    }
   ],
   "source": [
    "# and test its final performance\n",
    "test(model, testloader, criterion)"
   ]
  },
  {
   "cell_type": "markdown",
   "metadata": {
    "id": "G4G9a-B1-qPY"
   },
   "source": [
    "## Display the confusion matrix as a heatmap"
   ]
  },
  {
   "cell_type": "code",
   "execution_count": 144,
   "metadata": {},
   "outputs": [],
   "source": [
    "class_correct = list(0. for i in range(10))\n",
    "class_total = list(0. for i in range(10))\n",
    "preds = np.zeros((1))\n",
    "truth = np.zeros((1))\n",
    "\n",
    "model.eval()\n",
    "with torch.no_grad():\n",
    "    for i, data in enumerate(testloader):\n",
    "        images, labels = data[0].to(device), data[1].to(device)\n",
    "        outputs = model(images.to(device))\n",
    "        pred = outputs.argmax(dim=1)\n",
    "        c = pred.eq(labels.view_as(pred)).squeeze()\n",
    "        preds = np.concatenate([preds, pred.cpu().numpy()], axis=0)\n",
    "        truth = np.concatenate([truth, labels.cpu().numpy()], axis=0)"
   ]
  },
  {
   "cell_type": "code",
   "execution_count": 145,
   "metadata": {
    "colab": {
     "base_uri": "https://localhost:8080/",
     "height": 406
    },
    "id": "dNBW6KIe-pcE",
    "outputId": "4fc0a4dd-9481-487b-f100-b627584d2a22"
   },
   "outputs": [
    {
     "data": {
      "image/png": "[encoded data removed]",
      "text/plain": [
       "<Figure size 900x600 with 2 Axes>"
      ]
     },
     "metadata": {},
     "output_type": "display_data"
    }
   ],
   "source": [
    "import pandas as pd\n",
    "import seaborn as sns\n",
    "from sklearn.metrics import confusion_matrix\n",
    "import PIL.Image as Image\n",
    "import io\n",
    "# Display the confusion matrix as a heatmap\n",
    "arr = confusion_matrix(truth, preds)\n",
    "df_cm = pd.DataFrame(arr, class_names_eng, class_names_eng)\n",
    "fig = plt.figure(figsize = (9,6))\n",
    "sns.heatmap(df_cm, annot=True, fmt=\"d\", cmap='BuGn')\n",
    "plt.xlabel(\"prediction\")\n",
    "plt.ylabel(\"label (ground truth)\")\n",
    "\n",
    "img_buf = io.BytesIO()\n",
    "plt.savefig(img_buf, format = \"png\")\n",
    "im = Image.open(img_buf)\n",
    "wandb.log({\"figure\": wandb.Image(im, caption=\"heatmap\")})\n",
    "img_buf.close()\n"
   ]
  },
  {
   "cell_type": "markdown",
   "metadata": {
    "id": "Vj0eQ9PNRLVp"
   },
   "source": [
    "## Some multi-class performance report defined from Scikit-learn"
   ]
  },
  {
   "cell_type": "code",
   "execution_count": 146,
   "metadata": {
    "colab": {
     "base_uri": "https://localhost:8080/"
    },
    "id": "OkSW5zumAX05",
    "outputId": "6304cfd2-dabd-4e4c-a0f2-ee85872749ac"
   },
   "outputs": [
    {
     "name": "stdout",
     "output_type": "stream",
     "text": [
      "              precision    recall  f1-score   support\n",
      "\n",
      "           お       0.98      0.98      0.98      1001\n",
      "           き       0.96      0.95      0.95      1000\n",
      "           す       0.97      0.92      0.94      1000\n",
      "           つ       0.92      0.99      0.95      1000\n",
      "           な       0.97      0.92      0.94      1000\n",
      "           は       0.97      0.92      0.95      1000\n",
      "           ま       0.94      0.96      0.95      1000\n",
      "           や       0.92      0.99      0.95      1000\n",
      "           れ       0.97      0.94      0.96      1000\n",
      "           を       0.97      0.99      0.98      1000\n",
      "\n",
      "    accuracy                           0.96     10001\n",
      "   macro avg       0.96      0.96      0.96     10001\n",
      "weighted avg       0.96      0.96      0.96     10001\n",
      "\n"
     ]
    }
   ],
   "source": [
    "from sklearn.metrics import classification_report\n",
    "print(classification_report(truth, preds, target_names=class_names))"
   ]
  },
  {
   "cell_type": "code",
   "execution_count": 147,
   "metadata": {},
   "outputs": [],
   "source": [
    "run.finish()"
   ]
  }
 ],
 "metadata": {
  "kernelspec": {
   "display_name": "Python 3.8.13 ('mas_deep_learning')",
   "language": "python",
   "name": "python3"
  },
  "language_info": {
   "codemirror_mode": {
    "name": "ipython",
    "version": 3
   },
   "file_extension": ".py",
   "mimetype": "text/x-python",
   "name": "python",
   "nbconvert_exporter": "python",
   "pygments_lexer": "ipython3",
   "version": "3.8.13"
  },
  "vscode": {
   "interpreter": {
    "hash": "1b78e932638e08554df05c20af87637e4b1aca929fdb8a300e51156ee9428db4"
   }
  }
 },
 "nbformat": 4,
 "nbformat_minor": 0
}
