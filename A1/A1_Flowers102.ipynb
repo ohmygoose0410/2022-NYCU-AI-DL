{
 "cells": [
  {
   "cell_type": "code",
   "execution_count": 1,
   "metadata": {},
   "outputs": [],
   "source": [
    "%matplotlib inline\n",
    "%config InlineBackend.figure_format = 'retina'\n",
    "import os\n",
    "import random\n",
    "import time\n",
    "\n",
    "import torch\n",
    "import torchvision\n",
    "import numpy as np\n",
    "from torch import nn, optim\n",
    "from torch.optim import lr_scheduler\n",
    "from torch.autograd import Variable\n",
    "import torch.utils.data as data\n",
    "from torchvision import datasets, models, transforms\n",
    "import json\n",
    "import copy\n",
    "import seaborn as sns\n",
    "from PIL import Image\n",
    "from collections import OrderedDict\n",
    "import matplotlib.pyplot as plt\n",
    "from tqdm import tqdm"
   ]
  },
  {
   "cell_type": "code",
   "execution_count": 2,
   "metadata": {},
   "outputs": [],
   "source": [
    "import urllib.request\n",
    "import progressbar\n",
    "from os.path import exists\n",
    "\n",
    "class ProgressBar():\n",
    "    def __init__(self):\n",
    "        self.pbar = None\n",
    "\n",
    "    def __call__(self, block_num, block_size, total_size):\n",
    "        if not self.pbar:\n",
    "            self.pbar=progressbar.ProgressBar(maxval=total_size)\n",
    "            self.pbar.start()\n",
    "\n",
    "        downloaded = block_num * block_size\n",
    "        if downloaded < total_size:\n",
    "            self.pbar.update(downloaded)\n",
    "        else:\n",
    "            self.pbar.finish()\n",
    "if not exists(\"./flower_data.tar.gz\"):\n",
    "    urllib.request.urlretrieve(\" https://s3.amazonaws.com/content.udacity-data.com/nd089/flower_data.tar.gz\", \"flower_data.tar.gz\", ProgressBar())\n",
    "if not exists(\"./cat_to_name.json\"):\n",
    "    urllib.request.urlretrieve(\"https://raw.githubusercontent.com/Muhammad-MujtabaSaeed/102-Flowers-Classification/master/cat_to_name.json\", \"cat_to_name.json\",  ProgressBar())"
   ]
  },
  {
   "cell_type": "code",
   "execution_count": 3,
   "metadata": {},
   "outputs": [],
   "source": [
    "import io\n",
    "import os\n",
    "import tarfile\n",
    "\n",
    "def get_file_progress_file_object_class(on_progress):\n",
    "    class FileProgressFileObject(tarfile.ExFileObject):\n",
    "        def read(self, size, *args):\n",
    "            on_progress(self.name, self.position, self.size)\n",
    "            return tarfile.ExFileObject.read(self, size, *args)\n",
    "    return FileProgressFileObject\n",
    "\n",
    "class TestFileProgressFileObject(tarfile.ExFileObject):\n",
    "    def read(self, size, *args):\n",
    "        on_progress(self.name, self.position, self.size)\n",
    "        return tarfile.ExFileObject.read(self, size, *args)\n",
    "\n",
    "class ProgressFileObject(io.FileIO):\n",
    "    def __init__(self, path, *args, **kwargs):\n",
    "        self._total_size = os.path.getsize(path)\n",
    "        io.FileIO.__init__(self, path, *args, **kwargs)\n",
    "\n",
    "    def read(self, size):\n",
    "        print(f\"\\rOverall process: [{self.tell()/self._total_size * 100:3.2f} %]\", end='')\n",
    "        return io.FileIO.read(self, size)\n",
    "\n",
    "def on_progress(filename, position, total_size):\n",
    "    print(\"%s: %d of %s\" %(filename, position, total_size))\n",
    "\n",
    "if not exists(\"./flowers\"):\n",
    "    tarfile.TarFile.fileobject = get_file_progress_file_object_class(on_progress)\n",
    "    tar = tarfile.open(fileobj=ProgressFileObject(\"flower_data.tar.gz\"))\n",
    "    tar.extractall('./flowers')\n",
    "    tar.close()\n",
    "\n",
    "class AverageMeter(object):\n",
    "    def __init__(self):\n",
    "        self.reset()\n",
    "\n",
    "    def reset(self):\n",
    "        self.val = 0\n",
    "        self.avg = 0\n",
    "        self.sum = 0\n",
    "        self.count = 0\n",
    "\n",
    "    def update(self, val, n=1):\n",
    "        self.val = val\n",
    "        self.sum += val * n\n",
    "        self.count += n\n",
    "        self.avg = self.sum / self.count"
   ]
  },
  {
   "cell_type": "code",
   "execution_count": 4,
   "metadata": {},
   "outputs": [
    {
     "name": "stdout",
     "output_type": "stream",
     "text": [
      "device 0 Tesla V100-PCIE-32GB\n"
     ]
    }
   ],
   "source": [
    "# Ensure deterministic behavior\n",
    "def init_seeds(seed=0):\n",
    "    torch.manual_seed(seed) # sets the seed for generating random numbers.\n",
    "    torch.backends.cudnn.deterministic = True\n",
    "\n",
    "init_seeds(1)\n",
    "# Device configuration\n",
    "torch.cuda.set_device(0)\n",
    "device = torch.device(\"cuda\" if torch.cuda.is_available() else \"cpu\")\n",
    "print(\"device\", torch.cuda.current_device(), torch.cuda.get_device_name(torch.cuda.current_device()))"
   ]
  },
  {
   "cell_type": "code",
   "execution_count": 5,
   "metadata": {},
   "outputs": [
    {
     "name": "stderr",
     "output_type": "stream",
     "text": [
      "\u001b[34m\u001b[1mwandb\u001b[0m: Currently logged in as: \u001b[33mohmygoose0410\u001b[0m. Use \u001b[1m`wandb login --relogin`\u001b[0m to force relogin\n"
     ]
    }
   ],
   "source": [
    "import wandb\n",
    "\n",
    "wandb.login()\n",
    "os.environ[\"WANDB_API_KEY\"] = \"x\"*40\n",
    "\n",
    "config = dict(\n",
    "    epochs          = 45,\n",
    "    batch_size      = 32,\n",
    "    learning_rate   = 0.1,\n",
    "    gamma           = 0.1,\n",
    "    step_size       = 30,\n",
    "    classes         = 102,\n",
    "    num_workers     = 4,\n",
    "    dataset         = \"Flowers102\",\n",
    "    model           = \"resnet18\",\n",
    "    activation      = \"relu\",     # leaky relu/sigmoid/elu/tanh/relu\n",
    "    optimizer       = \"SGD\",\n",
    ")\n",
    "\n",
    "wandb_init = dict(\n",
    "#     job_type: Optional[str] = None,\n",
    "#     dir = None,\n",
    "    config = config,\n",
    "    project = \"Deep_Learning_HW1_Flowers102\",\n",
    "#     entity = None,\n",
    "#     reinit = None,\n",
    "    # tags = ['wgan_gp_1v1'],\n",
    "#     group = None,\n",
    "    name = None,\n",
    "    notes = None,\n",
    "#     magic = None,\n",
    "#     config_exclude_keys = None,\n",
    "#     config_include_keys = None,\n",
    "#     anonymous = None,\n",
    "    mode = \"disabled\",  # \"online\",\"offline\",\"disabled\"\n",
    "#     allow_val_change = None,\n",
    "#     resume = None,\n",
    "#     force = None,\n",
    "#     tensorboard = None,\n",
    "#     sync_tensorboard = None,\n",
    "#     monitor_gym = None,\n",
    "    save_code = True,\n",
    "#     settings=None\n",
    ")\n",
    "data_dir = './flowers'\n",
    "train_dir = data_dir + '/train'\n",
    "valid_dir = data_dir + '/valid'\n",
    "test_dir = data_dir + '/test'"
   ]
  },
  {
   "cell_type": "code",
   "execution_count": 6,
   "metadata": {},
   "outputs": [],
   "source": [
    "# defining data transforms for training, validation and test data and also normalizing whole data\n",
    "data_transforms = {\n",
    "        'train': transforms.Compose([\n",
    "            transforms.RandomResizedCrop(224),\n",
    "            transforms.RandomRotation(45),\n",
    "            transforms.RandomHorizontalFlip(),\n",
    "            transforms.ToTensor(),\n",
    "            transforms.Normalize(mean=[0.485, 0.456, 0.406], std=[0.229, 0.224, 0.225])\n",
    "         ]),\n",
    "        'valid': transforms.Compose([\n",
    "            transforms.Resize(256),\n",
    "            transforms.CenterCrop(224),\n",
    "            transforms.ToTensor(),\n",
    "            transforms.Normalize(mean=[0.485, 0.456, 0.406], std=[0.229, 0.224, 0.225])\n",
    "         ]),\n",
    "        'test': transforms.Compose([\n",
    "            transforms.Resize(256),\n",
    "            transforms.CenterCrop(224),\n",
    "            transforms.ToTensor(),\n",
    "            transforms.Normalize(mean=[0.485, 0.456, 0.406], std=[0.229, 0.224, 0.225])\n",
    "         ])\n",
    "    }\n",
    "\n",
    "# loading datasets with PyTorch ImageFolder\n",
    "image_datasets = {\n",
    "        x: datasets.ImageFolder(root=data_dir + '/' + x, transform=data_transforms[x])\n",
    "        for x in list(data_transforms.keys())\n",
    "    }\n",
    "\n",
    "# defining data loaders to load data using image_datasets and transforms, here we also specify batch size for the mini batch\n",
    "dataloaders = {\n",
    "        x: data.DataLoader(image_datasets[x], batch_size=config['batch_size'], shuffle=True, num_workers=config[\"num_workers\"])\n",
    "        for x in list(image_datasets.keys())\n",
    "    }\n",
    "dataset_sizes = {\n",
    "        x: len(dataloaders[x].dataset) \n",
    "        for x in list(image_datasets.keys())\n",
    "    } \n",
    "class_names = image_datasets['train'].classes"
   ]
  },
  {
   "cell_type": "code",
   "execution_count": 7,
   "metadata": {},
   "outputs": [],
   "source": [
    "import json\n",
    "with open('./cat_to_name.json', 'r') as f:\n",
    "    cat_to_name = json.load(f)\n",
    "\n",
    "for i in range(0,len(class_names)):\n",
    "    class_names[i] = cat_to_name.get(class_names[i])"
   ]
  },
  {
   "cell_type": "code",
   "execution_count": 8,
   "metadata": {},
   "outputs": [],
   "source": [
    "import torch.optim as optim\n",
    "\n",
    "def make(config):\n",
    "    # loading a pre-trained(trained on image net) resnet18 model from torchvision models\n",
    "    model_ft = models.resnet18(pretrained=True) \n",
    "    model_ft.layer1[0].relu = nn.ReLU()\n",
    "    model_ft.layer1[1].relu = nn.ReLU()\n",
    "    model_ft.layer2[0].relu = nn.ReLU()\n",
    "    model_ft.layer2[1].relu = nn.ReLU()\n",
    "    model_ft.layer3[0].relu = nn.ReLU()\n",
    "    model_ft.layer3[1].relu = nn.ReLU()\n",
    "    model_ft.layer4[0].relu = nn.ReLU()\n",
    "    model_ft.layer4[1].relu = nn.ReLU()\n",
    "\n",
    "    num_ftrs = model_ft.fc.in_features\n",
    "    # changing the last layer for this dataset by setting last layer neurons to 102 as this dataset has 102 categories\n",
    "    model_ft.fc = nn.Linear(num_ftrs, 102) \n",
    "    model_ft.to(device)\n",
    "\n",
    "    # defining loss function\n",
    "    criterion = nn.CrossEntropyLoss() \n",
    "     # defining optimizer with learning rate set to 0.0001\n",
    "    optimizer_ft = optim.SGD(model_ft.parameters(), lr=config[\"learning_rate\"],\n",
    "                             momentum=0.9, weight_decay=0.0001)\n",
    "    scheduler = lr_scheduler.StepLR(optimizer_ft, step_size=config[\"step_size\"], gamma=config[\"gamma\"])\n",
    "    \n",
    "    return model_ft, criterion, optimizer_ft, scheduler"
   ]
  },
  {
   "cell_type": "code",
   "execution_count": 9,
   "metadata": {},
   "outputs": [],
   "source": [
    "def test_model(model, criterion):\n",
    "    model.eval()\n",
    "\n",
    "    running_loss = 0.0\n",
    "    running_corrects = 0\n",
    "    with torch.no_grad():\n",
    "        for inputs, labels in dataloaders['test']:\n",
    "            inputs, labels = inputs.to(device), labels.to(device)\n",
    "            outputs = model(inputs)\n",
    "            _, preds = torch.max(outputs, 1)\n",
    "            loss = criterion(outputs, labels)\n",
    "            # statistics\n",
    "            running_loss += loss.item() * inputs.size(0)\n",
    "            running_corrects += torch.sum(preds == labels.data)\n",
    "\n",
    "        epoch_loss = running_loss / dataset_sizes['test']\n",
    "        epoch_acc = running_corrects.double() / dataset_sizes['test']\n",
    "        print('\\n\\n' + '-' * 10)\n",
    "        print(f'Test Loss: {epoch_loss:.4f} Acc: {epoch_acc*100:.4f}%')"
   ]
  },
  {
   "cell_type": "code",
   "execution_count": 10,
   "metadata": {},
   "outputs": [],
   "source": [
    "def train_model(model, criterion, optimizer, scheduler, config):\n",
    "    # Tell wandb to watch what the model gets up to: gradients, weights, and more!\n",
    "    wandb.watch(model, criterion, log=\"all\", log_freq=10)\n",
    "    \n",
    "    best_model_wts = copy.deepcopy(model.state_dict())\n",
    "    running_loss_avg = AverageMeter()\n",
    "    best_acc = 0.0\n",
    "    train_loss = 0\n",
    "    running_loss_list = []\n",
    "    since = time.time()\n",
    "    print('-' * 60)\n",
    "    for epoch in range(config[\"epochs\"]):\n",
    "\n",
    "        # Each epoch has a training and validation phase\n",
    "        for phase in ['train', 'valid']:\n",
    "            if phase == 'train':\n",
    "                model.train()  # Set model to training mode\n",
    "            else:\n",
    "                model.eval()   # Set model to evaluate mode\n",
    "\n",
    "            running_loss = 0.0\n",
    "            running_corrects = 0\n",
    "\n",
    "            tq = tqdm(total=(len(dataloaders[phase]) * config['batch_size']))\n",
    "            tq.set_description(f'Epoch {epoch}, {phase}')\n",
    "\n",
    "            # Iterate over data.\n",
    "            for i, data in enumerate(dataloaders[phase]):\n",
    "                inputs = data[0].to(device)\n",
    "                labels = data[1].to(device)\n",
    "\n",
    "                # zero the parameter gradients\n",
    "                optimizer.zero_grad()\n",
    "\n",
    "                # forward\n",
    "                # track history if only in train\n",
    "                with torch.set_grad_enabled(phase == 'train'):\n",
    "                    outputs = model(inputs)\n",
    "                    _, preds = torch.max(outputs, 1)\n",
    "                    loss = criterion(outputs, labels)\n",
    "\n",
    "                    # backward + optimize only if in training phase\n",
    "                    if phase == 'train':\n",
    "                        loss.backward()\n",
    "                        optimizer.step()\n",
    "\n",
    "                # statistics\n",
    "                running_loss += loss.item() * inputs.size(0)\n",
    "                running_corrects += torch.sum(preds == labels.data)\n",
    "                running_loss_avg.update(loss.cpu(), labels.size(0))\n",
    "\n",
    "                tq.set_postfix(loss='{:.5f}'.format(running_loss_avg.avg), lr='{:1.10f}'.format(scheduler.get_last_lr()[0]))\n",
    "                tq.update(config['batch_size'])\n",
    "            if phase == 'train':\n",
    "                scheduler.step()\n",
    "\n",
    "            epoch_loss = running_loss / dataset_sizes[phase]\n",
    "            epoch_acc = running_corrects.double() / dataset_sizes[phase]\n",
    "            running_loss_list.append(epoch_loss)\n",
    "            print(f'{phase} Loss: {epoch_loss:.4f} Acc: {epoch_acc*100:.4f}%')\n",
    "\n",
    "            # deep copy the model\n",
    "            if phase == 'valid' and epoch_acc > best_acc:\n",
    "                best_acc = epoch_acc\n",
    "                best_model_wts = copy.deepcopy(model.state_dict())\n",
    "            if phase == 'train':\n",
    "                wandb.log({\"Average_training_loss\": epoch_loss})\n",
    "            else:\n",
    "                wandb.log({\"valid accuracy\": epoch_acc})\n",
    "            tq.close()    \n",
    "        print('-' * 60)\n",
    "        \n",
    "    time_elapsed = time.time() - since\n",
    "    wandb.log({\"training time(s)\": time_elapsed})\n",
    "    print(f'\\nTraining complete in {time_elapsed // 60:.0f}m {time_elapsed % 60:.0f}s')\n",
    "    print(f'Best val Acc: {best_acc*100:4f}%')\n",
    "    fig, ax = plt.subplots()\n",
    "    ax.plot(running_loss_list, 'b')\n",
    "    ax.set_title(\"Average Training Loss\")\n",
    "    ax.set_xlabel(\"Epoch\")\n",
    "    ax.set_ylabel(\"Loss\")\n",
    "    model.load_state_dict(best_model_wts)\n",
    "    return model"
   ]
  },
  {
   "cell_type": "code",
   "execution_count": 11,
   "metadata": {},
   "outputs": [],
   "source": [
    "def imshow(inp, title=None):\n",
    "    \"\"\"Imshow for Tensor.\"\"\"\n",
    "    inp = inp.numpy().transpose((1, 2, 0))\n",
    "    mean = np.array([0.485, 0.456, 0.406])\n",
    "    std = np.array([0.229, 0.224, 0.225])\n",
    "    inp = std * inp + mean\n",
    "    inp = np.clip(inp, 0, 1)\n",
    "    plt.imshow(inp)\n",
    "    if title is not None:\n",
    "        plt.title(title)\n",
    "    plt.pause(0.001)  # pause a bit so that plots are updated"
   ]
  },
  {
   "cell_type": "code",
   "execution_count": 12,
   "metadata": {},
   "outputs": [],
   "source": [
    "def visualize_model(model, num_images=8):\n",
    "    model.eval()\n",
    "    images_so_far = 0\n",
    "    fig = plt.figure()\n",
    "    \n",
    "    with torch.no_grad():\n",
    "        for i, data in enumerate(dataloaders['test']):\n",
    "            inputs, labels = data\n",
    "            inputs, labels = Variable(inputs.to(device)), Variable(labels.to(device))\n",
    "            outputs = model(inputs)\n",
    "            _, preds = torch.max(outputs.data, 1)\n",
    "\n",
    "            for j in range(inputs.size()[0]):\n",
    "                images_so_far += 1\n",
    "                ax = plt.subplot(num_images//2, 2, images_so_far)\n",
    "                ax.axis('off')\n",
    "                ax.set_title('class: {} predicted: {}'.format(class_names[labels.data[j]], class_names[preds[j]]))\n",
    "                imshow(inputs.cpu().data[j])\n",
    "\n",
    "                if images_so_far == num_images:\n",
    "                    return"
   ]
  },
  {
   "cell_type": "markdown",
   "metadata": {},
   "source": [
    "## Main"
   ]
  },
  {
   "cell_type": "code",
   "execution_count": 13,
   "metadata": {},
   "outputs": [
    {
     "data": {
      "text/html": [
       "Changes to your `wandb` environment variables will be ignored because your `wandb` session has already started. For more information on how to modify your settings with `wandb.init()` arguments, please refer to <a href=\"https://wandb.me/wandb-init\" target=\"_blank\">the W&B docs</a>."
      ],
      "text/plain": [
       "<IPython.core.display.HTML object>"
      ]
     },
     "metadata": {},
     "output_type": "display_data"
    },
    {
     "name": "stdout",
     "output_type": "stream",
     "text": [
      "------------------------------------------------------------\n"
     ]
    },
    {
     "name": "stderr",
     "output_type": "stream",
     "text": [
      "Epoch 0, train: 100%|██████████| 6560/6560 [00:13<00:00, 484.41it/s, loss=5.72058, lr=0.1000000000] \n"
     ]
    },
    {
     "name": "stdout",
     "output_type": "stream",
     "text": [
      "train Loss: 5.7206 Acc: 4.0140%\n"
     ]
    },
    {
     "name": "stderr",
     "output_type": "stream",
     "text": [
      "Epoch 0, valid: 100%|██████████| 832/832 [00:02<00:00, 339.81it/s, loss=5.56209, lr=0.1000000000]\n"
     ]
    },
    {
     "name": "stdout",
     "output_type": "stream",
     "text": [
      "valid Loss: 4.2926 Acc: 5.8680%\n",
      "------------------------------------------------------------\n"
     ]
    },
    {
     "name": "stderr",
     "output_type": "stream",
     "text": [
      "Epoch 1, train: 100%|██████████| 6560/6560 [00:13<00:00, 484.34it/s, loss=4.90231, lr=0.1000000000]\n"
     ]
    },
    {
     "name": "stdout",
     "output_type": "stream",
     "text": [
      "train Loss: 4.1602 Acc: 5.5098%\n"
     ]
    },
    {
     "name": "stderr",
     "output_type": "stream",
     "text": [
      "Epoch 1, valid: 100%|██████████| 832/832 [00:02<00:00, 354.21it/s, loss=4.85134, lr=0.1000000000]\n"
     ]
    },
    {
     "name": "stdout",
     "output_type": "stream",
     "text": [
      "valid Loss: 3.9839 Acc: 7.9462%\n",
      "------------------------------------------------------------\n"
     ]
    },
    {
     "name": "stderr",
     "output_type": "stream",
     "text": [
      "Epoch 2, train: 100%|██████████| 6560/6560 [00:13<00:00, 479.28it/s, loss=4.54923, lr=0.1000000000]\n"
     ]
    },
    {
     "name": "stdout",
     "output_type": "stream",
     "text": [
      "train Loss: 3.8696 Acc: 8.4249%\n"
     ]
    },
    {
     "name": "stderr",
     "output_type": "stream",
     "text": [
      "Epoch 2, valid: 100%|██████████| 832/832 [00:02<00:00, 383.80it/s, loss=4.51439, lr=0.1000000000]\n"
     ]
    },
    {
     "name": "stdout",
     "output_type": "stream",
     "text": [
      "valid Loss: 3.6076 Acc: 10.8802%\n",
      "------------------------------------------------------------\n"
     ]
    },
    {
     "name": "stderr",
     "output_type": "stream",
     "text": [
      "Epoch 3, train: 100%|██████████| 6560/6560 [00:13<00:00, 488.23it/s, loss=4.31771, lr=0.1000000000]\n"
     ]
    },
    {
     "name": "stdout",
     "output_type": "stream",
     "text": [
      "train Loss: 3.6540 Acc: 10.9280%\n"
     ]
    },
    {
     "name": "stderr",
     "output_type": "stream",
     "text": [
      "Epoch 3, valid: 100%|██████████| 832/832 [00:02<00:00, 377.73it/s, loss=4.30016, lr=0.1000000000]\n"
     ]
    },
    {
     "name": "stdout",
     "output_type": "stream",
     "text": [
      "valid Loss: 3.6851 Acc: 11.6137%\n",
      "------------------------------------------------------------\n"
     ]
    },
    {
     "name": "stderr",
     "output_type": "stream",
     "text": [
      "Epoch 4, train: 100%|██████████| 6560/6560 [00:13<00:00, 476.88it/s, loss=4.15228, lr=0.1000000000]\n"
     ]
    },
    {
     "name": "stdout",
     "output_type": "stream",
     "text": [
      "train Loss: 3.4869 Acc: 14.0873%\n"
     ]
    },
    {
     "name": "stderr",
     "output_type": "stream",
     "text": [
      "Epoch 4, valid: 100%|██████████| 832/832 [00:02<00:00, 373.69it/s, loss=4.13283, lr=0.1000000000]\n"
     ]
    },
    {
     "name": "stdout",
     "output_type": "stream",
     "text": [
      "valid Loss: 3.2763 Acc: 17.3594%\n",
      "------------------------------------------------------------\n"
     ]
    },
    {
     "name": "stderr",
     "output_type": "stream",
     "text": [
      "Epoch 5, train: 100%|██████████| 6560/6560 [00:13<00:00, 483.95it/s, loss=4.01549, lr=0.1000000000]\n"
     ]
    },
    {
     "name": "stdout",
     "output_type": "stream",
     "text": [
      "train Loss: 3.3555 Acc: 16.3004%\n"
     ]
    },
    {
     "name": "stderr",
     "output_type": "stream",
     "text": [
      "Epoch 5, valid: 100%|██████████| 832/832 [00:02<00:00, 341.99it/s, loss=4.00083, lr=0.1000000000]\n"
     ]
    },
    {
     "name": "stdout",
     "output_type": "stream",
     "text": [
      "valid Loss: 3.2231 Acc: 17.8484%\n",
      "------------------------------------------------------------\n"
     ]
    },
    {
     "name": "stderr",
     "output_type": "stream",
     "text": [
      "Epoch 6, train: 100%|██████████| 6560/6560 [00:13<00:00, 490.71it/s, loss=3.89578, lr=0.1000000000]\n"
     ]
    },
    {
     "name": "stdout",
     "output_type": "stream",
     "text": [
      "train Loss: 3.1868 Acc: 19.0171%\n"
     ]
    },
    {
     "name": "stderr",
     "output_type": "stream",
     "text": [
      "Epoch 6, valid: 100%|██████████| 832/832 [00:02<00:00, 371.54it/s, loss=3.88065, lr=0.1000000000]\n"
     ]
    },
    {
     "name": "stdout",
     "output_type": "stream",
     "text": [
      "valid Loss: 2.9415 Acc: 25.3056%\n",
      "------------------------------------------------------------\n"
     ]
    },
    {
     "name": "stderr",
     "output_type": "stream",
     "text": [
      "Epoch 7, train: 100%|██████████| 6560/6560 [00:13<00:00, 483.34it/s, loss=3.78745, lr=0.1000000000]\n"
     ]
    },
    {
     "name": "stdout",
     "output_type": "stream",
     "text": [
      "train Loss: 3.0536 Acc: 21.4133%\n"
     ]
    },
    {
     "name": "stderr",
     "output_type": "stream",
     "text": [
      "Epoch 7, valid: 100%|██████████| 832/832 [00:02<00:00, 366.33it/s, loss=3.77456, lr=0.1000000000]\n"
     ]
    },
    {
     "name": "stdout",
     "output_type": "stream",
     "text": [
      "valid Loss: 2.8585 Acc: 28.9731%\n",
      "------------------------------------------------------------\n"
     ]
    },
    {
     "name": "stderr",
     "output_type": "stream",
     "text": [
      "Epoch 8, train: 100%|██████████| 6560/6560 [00:13<00:00, 490.57it/s, loss=3.69449, lr=0.1000000000]\n"
     ]
    },
    {
     "name": "stdout",
     "output_type": "stream",
     "text": [
      "train Loss: 2.9740 Acc: 23.9011%\n"
     ]
    },
    {
     "name": "stderr",
     "output_type": "stream",
     "text": [
      "Epoch 8, valid: 100%|██████████| 832/832 [00:02<00:00, 386.92it/s, loss=3.68353, lr=0.1000000000]\n"
     ]
    },
    {
     "name": "stdout",
     "output_type": "stream",
     "text": [
      "valid Loss: 2.8060 Acc: 29.3399%\n",
      "------------------------------------------------------------\n"
     ]
    },
    {
     "name": "stderr",
     "output_type": "stream",
     "text": [
      "Epoch 9, train: 100%|██████████| 6560/6560 [00:13<00:00, 480.81it/s, loss=3.60754, lr=0.1000000000]\n"
     ]
    },
    {
     "name": "stdout",
     "output_type": "stream",
     "text": [
      "train Loss: 2.8382 Acc: 26.0684%\n"
     ]
    },
    {
     "name": "stderr",
     "output_type": "stream",
     "text": [
      "Epoch 9, valid: 100%|██████████| 832/832 [00:02<00:00, 353.06it/s, loss=3.59647, lr=0.1000000000]\n"
     ]
    },
    {
     "name": "stdout",
     "output_type": "stream",
     "text": [
      "valid Loss: 2.6103 Acc: 32.6406%\n",
      "------------------------------------------------------------\n"
     ]
    },
    {
     "name": "stderr",
     "output_type": "stream",
     "text": [
      "Epoch 10, train: 100%|██████████| 6560/6560 [00:13<00:00, 488.13it/s, loss=3.52793, lr=0.1000000000]\n"
     ]
    },
    {
     "name": "stdout",
     "output_type": "stream",
     "text": [
      "train Loss: 2.7569 Acc: 27.9762%\n"
     ]
    },
    {
     "name": "stderr",
     "output_type": "stream",
     "text": [
      "Epoch 10, valid: 100%|██████████| 832/832 [00:02<00:00, 359.10it/s, loss=3.52158, lr=0.1000000000]\n"
     ]
    },
    {
     "name": "stdout",
     "output_type": "stream",
     "text": [
      "valid Loss: 2.8987 Acc: 27.1394%\n",
      "------------------------------------------------------------\n"
     ]
    },
    {
     "name": "stderr",
     "output_type": "stream",
     "text": [
      "Epoch 11, train: 100%|██████████| 6560/6560 [00:13<00:00, 483.50it/s, loss=3.45861, lr=0.1000000000]\n"
     ]
    },
    {
     "name": "stdout",
     "output_type": "stream",
     "text": [
      "train Loss: 2.6795 Acc: 30.0061%\n"
     ]
    },
    {
     "name": "stderr",
     "output_type": "stream",
     "text": [
      "Epoch 11, valid: 100%|██████████| 832/832 [00:02<00:00, 384.77it/s, loss=3.44811, lr=0.1000000000]\n"
     ]
    },
    {
     "name": "stdout",
     "output_type": "stream",
     "text": [
      "valid Loss: 2.3233 Acc: 38.8753%\n",
      "------------------------------------------------------------\n"
     ]
    },
    {
     "name": "stderr",
     "output_type": "stream",
     "text": [
      "Epoch 12, train: 100%|██████████| 6560/6560 [00:13<00:00, 483.09it/s, loss=3.38890, lr=0.1000000000]\n"
     ]
    },
    {
     "name": "stdout",
     "output_type": "stream",
     "text": [
      "train Loss: 2.5897 Acc: 31.8987%\n"
     ]
    },
    {
     "name": "stderr",
     "output_type": "stream",
     "text": [
      "Epoch 12, valid: 100%|██████████| 832/832 [00:02<00:00, 374.28it/s, loss=3.38044, lr=0.1000000000]\n"
     ]
    },
    {
     "name": "stdout",
     "output_type": "stream",
     "text": [
      "valid Loss: 2.3982 Acc: 36.1858%\n",
      "------------------------------------------------------------\n"
     ]
    },
    {
     "name": "stderr",
     "output_type": "stream",
     "text": [
      "Epoch 13, train: 100%|██████████| 6560/6560 [00:13<00:00, 485.86it/s, loss=3.32087, lr=0.1000000000]\n"
     ]
    },
    {
     "name": "stdout",
     "output_type": "stream",
     "text": [
      "train Loss: 2.4498 Acc: 35.8211%\n"
     ]
    },
    {
     "name": "stderr",
     "output_type": "stream",
     "text": [
      "Epoch 13, valid: 100%|██████████| 832/832 [00:02<00:00, 374.78it/s, loss=3.31229, lr=0.1000000000]\n"
     ]
    },
    {
     "name": "stdout",
     "output_type": "stream",
     "text": [
      "valid Loss: 2.2385 Acc: 40.8313%\n",
      "------------------------------------------------------------\n"
     ]
    },
    {
     "name": "stderr",
     "output_type": "stream",
     "text": [
      "Epoch 14, train: 100%|██████████| 6560/6560 [00:13<00:00, 490.73it/s, loss=3.25588, lr=0.1000000000]\n"
     ]
    },
    {
     "name": "stdout",
     "output_type": "stream",
     "text": [
      "train Loss: 2.3675 Acc: 37.1947%\n"
     ]
    },
    {
     "name": "stderr",
     "output_type": "stream",
     "text": [
      "Epoch 14, valid: 100%|██████████| 832/832 [00:02<00:00, 359.80it/s, loss=3.24752, lr=0.1000000000]\n"
     ]
    },
    {
     "name": "stdout",
     "output_type": "stream",
     "text": [
      "valid Loss: 2.1267 Acc: 44.0098%\n",
      "------------------------------------------------------------\n"
     ]
    },
    {
     "name": "stderr",
     "output_type": "stream",
     "text": [
      "Epoch 15, train: 100%|██████████| 6560/6560 [00:13<00:00, 487.73it/s, loss=3.19416, lr=0.1000000000]\n"
     ]
    },
    {
     "name": "stdout",
     "output_type": "stream",
     "text": [
      "train Loss: 2.2938 Acc: 38.7668%\n"
     ]
    },
    {
     "name": "stderr",
     "output_type": "stream",
     "text": [
      "Epoch 15, valid: 100%|██████████| 832/832 [00:02<00:00, 353.17it/s, loss=3.18586, lr=0.1000000000]\n"
     ]
    },
    {
     "name": "stdout",
     "output_type": "stream",
     "text": [
      "valid Loss: 1.9981 Acc: 45.7213%\n",
      "------------------------------------------------------------\n"
     ]
    },
    {
     "name": "stderr",
     "output_type": "stream",
     "text": [
      "Epoch 16, train: 100%|██████████| 6560/6560 [00:13<00:00, 490.70it/s, loss=3.13557, lr=0.1000000000]\n"
     ]
    },
    {
     "name": "stdout",
     "output_type": "stream",
     "text": [
      "train Loss: 2.2305 Acc: 41.0562%\n"
     ]
    },
    {
     "name": "stderr",
     "output_type": "stream",
     "text": [
      "Epoch 16, valid: 100%|██████████| 832/832 [00:02<00:00, 382.22it/s, loss=3.12773, lr=0.1000000000]\n"
     ]
    },
    {
     "name": "stdout",
     "output_type": "stream",
     "text": [
      "valid Loss: 1.9336 Acc: 48.0440%\n",
      "------------------------------------------------------------\n"
     ]
    },
    {
     "name": "stderr",
     "output_type": "stream",
     "text": [
      "Epoch 17, train: 100%|██████████| 6560/6560 [00:13<00:00, 483.58it/s, loss=3.08050, lr=0.1000000000]\n"
     ]
    },
    {
     "name": "stdout",
     "output_type": "stream",
     "text": [
      "train Loss: 2.1774 Acc: 41.8956%\n"
     ]
    },
    {
     "name": "stderr",
     "output_type": "stream",
     "text": [
      "Epoch 17, valid: 100%|██████████| 832/832 [00:02<00:00, 361.21it/s, loss=3.07357, lr=0.1000000000]\n"
     ]
    },
    {
     "name": "stdout",
     "output_type": "stream",
     "text": [
      "valid Loss: 1.9566 Acc: 47.4328%\n",
      "------------------------------------------------------------\n"
     ]
    },
    {
     "name": "stderr",
     "output_type": "stream",
     "text": [
      "Epoch 18, train: 100%|██████████| 6560/6560 [00:13<00:00, 487.63it/s, loss=3.02722, lr=0.1000000000]\n"
     ]
    },
    {
     "name": "stdout",
     "output_type": "stream",
     "text": [
      "train Loss: 2.0889 Acc: 43.9713%\n"
     ]
    },
    {
     "name": "stderr",
     "output_type": "stream",
     "text": [
      "Epoch 18, valid: 100%|██████████| 832/832 [00:02<00:00, 367.84it/s, loss=3.02048, lr=0.1000000000]\n"
     ]
    },
    {
     "name": "stdout",
     "output_type": "stream",
     "text": [
      "valid Loss: 1.8730 Acc: 51.7115%\n",
      "------------------------------------------------------------\n"
     ]
    },
    {
     "name": "stderr",
     "output_type": "stream",
     "text": [
      "Epoch 19, train: 100%|██████████| 6560/6560 [00:13<00:00, 488.76it/s, loss=2.97570, lr=0.1000000000]\n"
     ]
    },
    {
     "name": "stdout",
     "output_type": "stream",
     "text": [
      "train Loss: 2.0185 Acc: 45.6197%\n"
     ]
    },
    {
     "name": "stderr",
     "output_type": "stream",
     "text": [
      "Epoch 19, valid: 100%|██████████| 832/832 [00:02<00:00, 352.06it/s, loss=2.96931, lr=0.1000000000]\n"
     ]
    },
    {
     "name": "stdout",
     "output_type": "stream",
     "text": [
      "valid Loss: 1.8249 Acc: 54.0342%\n",
      "------------------------------------------------------------\n"
     ]
    },
    {
     "name": "stderr",
     "output_type": "stream",
     "text": [
      "Epoch 20, train: 100%|██████████| 6560/6560 [00:13<00:00, 496.27it/s, loss=2.92558, lr=0.1000000000]\n"
     ]
    },
    {
     "name": "stdout",
     "output_type": "stream",
     "text": [
      "train Loss: 1.9417 Acc: 47.1306%\n"
     ]
    },
    {
     "name": "stderr",
     "output_type": "stream",
     "text": [
      "Epoch 20, valid: 100%|██████████| 832/832 [00:02<00:00, 357.92it/s, loss=2.91898, lr=0.1000000000]\n"
     ]
    },
    {
     "name": "stdout",
     "output_type": "stream",
     "text": [
      "valid Loss: 1.6776 Acc: 54.1565%\n",
      "------------------------------------------------------------\n"
     ]
    },
    {
     "name": "stderr",
     "output_type": "stream",
     "text": [
      "Epoch 21, train: 100%|██████████| 6560/6560 [00:13<00:00, 480.40it/s, loss=2.87742, lr=0.1000000000]\n"
     ]
    },
    {
     "name": "stdout",
     "output_type": "stream",
     "text": [
      "train Loss: 1.8956 Acc: 49.1148%\n"
     ]
    },
    {
     "name": "stderr",
     "output_type": "stream",
     "text": [
      "Epoch 21, valid: 100%|██████████| 832/832 [00:02<00:00, 369.78it/s, loss=2.87112, lr=0.1000000000]\n"
     ]
    },
    {
     "name": "stdout",
     "output_type": "stream",
     "text": [
      "valid Loss: 1.6293 Acc: 56.7237%\n",
      "------------------------------------------------------------\n"
     ]
    },
    {
     "name": "stderr",
     "output_type": "stream",
     "text": [
      "Epoch 22, train: 100%|██████████| 6560/6560 [00:13<00:00, 487.96it/s, loss=2.83117, lr=0.1000000000]\n"
     ]
    },
    {
     "name": "stdout",
     "output_type": "stream",
     "text": [
      "train Loss: 1.8425 Acc: 49.9695%\n"
     ]
    },
    {
     "name": "stderr",
     "output_type": "stream",
     "text": [
      "Epoch 22, valid: 100%|██████████| 832/832 [00:02<00:00, 372.48it/s, loss=2.82604, lr=0.1000000000]\n"
     ]
    },
    {
     "name": "stdout",
     "output_type": "stream",
     "text": [
      "valid Loss: 1.7684 Acc: 53.3007%\n",
      "------------------------------------------------------------\n"
     ]
    },
    {
     "name": "stderr",
     "output_type": "stream",
     "text": [
      "Epoch 23, train: 100%|██████████| 6560/6560 [00:13<00:00, 485.19it/s, loss=2.78668, lr=0.1000000000]\n"
     ]
    },
    {
     "name": "stdout",
     "output_type": "stream",
     "text": [
      "train Loss: 1.7684 Acc: 52.1520%\n"
     ]
    },
    {
     "name": "stderr",
     "output_type": "stream",
     "text": [
      "Epoch 23, valid: 100%|██████████| 832/832 [00:02<00:00, 381.48it/s, loss=2.78140, lr=0.1000000000]\n"
     ]
    },
    {
     "name": "stdout",
     "output_type": "stream",
     "text": [
      "valid Loss: 1.6450 Acc: 57.7017%\n",
      "------------------------------------------------------------\n"
     ]
    },
    {
     "name": "stderr",
     "output_type": "stream",
     "text": [
      "Epoch 24, train: 100%|██████████| 6560/6560 [00:13<00:00, 487.90it/s, loss=2.74463, lr=0.1000000000]\n"
     ]
    },
    {
     "name": "stdout",
     "output_type": "stream",
     "text": [
      "train Loss: 1.7518 Acc: 52.7320%\n"
     ]
    },
    {
     "name": "stderr",
     "output_type": "stream",
     "text": [
      "Epoch 24, valid: 100%|██████████| 832/832 [00:02<00:00, 371.36it/s, loss=2.73981, lr=0.1000000000]\n"
     ]
    },
    {
     "name": "stdout",
     "output_type": "stream",
     "text": [
      "valid Loss: 1.6593 Acc: 55.9902%\n",
      "------------------------------------------------------------\n"
     ]
    },
    {
     "name": "stderr",
     "output_type": "stream",
     "text": [
      "Epoch 25, train: 100%|██████████| 6560/6560 [00:13<00:00, 489.44it/s, loss=2.70355, lr=0.1000000000]\n"
     ]
    },
    {
     "name": "stdout",
     "output_type": "stream",
     "text": [
      "train Loss: 1.6838 Acc: 55.0824%\n"
     ]
    },
    {
     "name": "stderr",
     "output_type": "stream",
     "text": [
      "Epoch 25, valid: 100%|██████████| 832/832 [00:02<00:00, 361.06it/s, loss=2.69859, lr=0.1000000000]\n"
     ]
    },
    {
     "name": "stdout",
     "output_type": "stream",
     "text": [
      "valid Loss: 1.5420 Acc: 60.1467%\n",
      "------------------------------------------------------------\n"
     ]
    },
    {
     "name": "stderr",
     "output_type": "stream",
     "text": [
      "Epoch 26, train: 100%|██████████| 6560/6560 [00:13<00:00, 483.04it/s, loss=2.66453, lr=0.1000000000]\n"
     ]
    },
    {
     "name": "stdout",
     "output_type": "stream",
     "text": [
      "train Loss: 1.6685 Acc: 54.4872%\n"
     ]
    },
    {
     "name": "stderr",
     "output_type": "stream",
     "text": [
      "Epoch 26, valid: 100%|██████████| 832/832 [00:02<00:00, 353.30it/s, loss=2.65979, lr=0.1000000000]\n"
     ]
    },
    {
     "name": "stdout",
     "output_type": "stream",
     "text": [
      "valid Loss: 1.5107 Acc: 61.7359%\n",
      "------------------------------------------------------------\n"
     ]
    },
    {
     "name": "stderr",
     "output_type": "stream",
     "text": [
      "Epoch 27, train: 100%|██████████| 6560/6560 [00:13<00:00, 480.78it/s, loss=2.62517, lr=0.1000000000]\n"
     ]
    },
    {
     "name": "stdout",
     "output_type": "stream",
     "text": [
      "train Loss: 1.5737 Acc: 57.3565%\n"
     ]
    },
    {
     "name": "stderr",
     "output_type": "stream",
     "text": [
      "Epoch 27, valid: 100%|██████████| 832/832 [00:02<00:00, 368.79it/s, loss=2.62266, lr=0.1000000000]\n"
     ]
    },
    {
     "name": "stdout",
     "output_type": "stream",
     "text": [
      "valid Loss: 1.9925 Acc: 52.4450%\n",
      "------------------------------------------------------------\n"
     ]
    },
    {
     "name": "stderr",
     "output_type": "stream",
     "text": [
      "Epoch 28, train: 100%|██████████| 6560/6560 [00:13<00:00, 482.04it/s, loss=2.59047, lr=0.1000000000]\n"
     ]
    },
    {
     "name": "stdout",
     "output_type": "stream",
     "text": [
      "train Loss: 1.5765 Acc: 57.6770%\n"
     ]
    },
    {
     "name": "stderr",
     "output_type": "stream",
     "text": [
      "Epoch 28, valid: 100%|██████████| 832/832 [00:02<00:00, 376.83it/s, loss=2.58607, lr=0.1000000000]\n"
     ]
    },
    {
     "name": "stdout",
     "output_type": "stream",
     "text": [
      "valid Loss: 1.4420 Acc: 62.4694%\n",
      "------------------------------------------------------------\n"
     ]
    },
    {
     "name": "stderr",
     "output_type": "stream",
     "text": [
      "Epoch 29, train: 100%|██████████| 6560/6560 [00:13<00:00, 496.18it/s, loss=2.55483, lr=0.1000000000]\n"
     ]
    },
    {
     "name": "stdout",
     "output_type": "stream",
     "text": [
      "train Loss: 1.5356 Acc: 57.9518%\n"
     ]
    },
    {
     "name": "stderr",
     "output_type": "stream",
     "text": [
      "Epoch 29, valid: 100%|██████████| 832/832 [00:02<00:00, 340.14it/s, loss=2.55100, lr=0.0100000000]\n"
     ]
    },
    {
     "name": "stdout",
     "output_type": "stream",
     "text": [
      "valid Loss: 1.5213 Acc: 62.9584%\n",
      "------------------------------------------------------------\n"
     ]
    },
    {
     "name": "stderr",
     "output_type": "stream",
     "text": [
      "Epoch 30, train: 100%|██████████| 6560/6560 [00:13<00:00, 483.67it/s, loss=2.51261, lr=0.0100000000]\n"
     ]
    },
    {
     "name": "stdout",
     "output_type": "stream",
     "text": [
      "train Loss: 1.2172 Acc: 66.9719%\n"
     ]
    },
    {
     "name": "stderr",
     "output_type": "stream",
     "text": [
      "Epoch 30, valid: 100%|██████████| 832/832 [00:02<00:00, 353.62it/s, loss=2.50713, lr=0.0100000000]\n"
     ]
    },
    {
     "name": "stdout",
     "output_type": "stream",
     "text": [
      "valid Loss: 0.9798 Acc: 75.1834%\n",
      "------------------------------------------------------------\n"
     ]
    },
    {
     "name": "stderr",
     "output_type": "stream",
     "text": [
      "Epoch 31, train: 100%|██████████| 6560/6560 [00:13<00:00, 476.41it/s, loss=2.46714, lr=0.0100000000]\n"
     ]
    },
    {
     "name": "stdout",
     "output_type": "stream",
     "text": [
      "train Loss: 1.0729 Acc: 71.2759%\n"
     ]
    },
    {
     "name": "stderr",
     "output_type": "stream",
     "text": [
      "Epoch 31, valid: 100%|██████████| 832/832 [00:02<00:00, 357.68it/s, loss=2.46171, lr=0.0100000000]\n"
     ]
    },
    {
     "name": "stdout",
     "output_type": "stream",
     "text": [
      "valid Loss: 0.9011 Acc: 76.6504%\n",
      "------------------------------------------------------------\n"
     ]
    },
    {
     "name": "stderr",
     "output_type": "stream",
     "text": [
      "Epoch 32, train: 100%|██████████| 6560/6560 [00:13<00:00, 477.50it/s, loss=2.42377, lr=0.0100000000]\n"
     ]
    },
    {
     "name": "stdout",
     "output_type": "stream",
     "text": [
      "train Loss: 1.0580 Acc: 71.0317%\n"
     ]
    },
    {
     "name": "stderr",
     "output_type": "stream",
     "text": [
      "Epoch 32, valid: 100%|██████████| 832/832 [00:02<00:00, 361.53it/s, loss=2.41860, lr=0.0100000000]\n"
     ]
    },
    {
     "name": "stdout",
     "output_type": "stream",
     "text": [
      "valid Loss: 0.8865 Acc: 78.1174%\n",
      "------------------------------------------------------------\n"
     ]
    },
    {
     "name": "stderr",
     "output_type": "stream",
     "text": [
      "Epoch 33, train: 100%|██████████| 6560/6560 [00:13<00:00, 487.44it/s, loss=2.38276, lr=0.0100000000]\n"
     ]
    },
    {
     "name": "stdout",
     "output_type": "stream",
     "text": [
      "train Loss: 1.0526 Acc: 70.8333%\n"
     ]
    },
    {
     "name": "stderr",
     "output_type": "stream",
     "text": [
      "Epoch 33, valid: 100%|██████████| 832/832 [00:02<00:00, 364.92it/s, loss=2.37784, lr=0.0100000000]\n"
     ]
    },
    {
     "name": "stdout",
     "output_type": "stream",
     "text": [
      "valid Loss: 0.8752 Acc: 77.1394%\n",
      "------------------------------------------------------------\n"
     ]
    },
    {
     "name": "stderr",
     "output_type": "stream",
     "text": [
      "Epoch 34, train: 100%|██████████| 6560/6560 [00:13<00:00, 482.50it/s, loss=2.34246, lr=0.0100000000]\n"
     ]
    },
    {
     "name": "stdout",
     "output_type": "stream",
     "text": [
      "train Loss: 0.9893 Acc: 72.9396%\n"
     ]
    },
    {
     "name": "stderr",
     "output_type": "stream",
     "text": [
      "Epoch 34, valid: 100%|██████████| 832/832 [00:02<00:00, 349.19it/s, loss=2.33769, lr=0.0100000000]\n"
     ]
    },
    {
     "name": "stdout",
     "output_type": "stream",
     "text": [
      "valid Loss: 0.8366 Acc: 78.6064%\n",
      "------------------------------------------------------------\n"
     ]
    },
    {
     "name": "stderr",
     "output_type": "stream",
     "text": [
      "Epoch 35, train: 100%|██████████| 6560/6560 [00:13<00:00, 472.00it/s, loss=2.30424, lr=0.0100000000]\n"
     ]
    },
    {
     "name": "stdout",
     "output_type": "stream",
     "text": [
      "train Loss: 0.9875 Acc: 72.8480%\n"
     ]
    },
    {
     "name": "stderr",
     "output_type": "stream",
     "text": [
      "Epoch 35, valid: 100%|██████████| 832/832 [00:02<00:00, 358.19it/s, loss=2.29964, lr=0.0100000000]\n"
     ]
    },
    {
     "name": "stdout",
     "output_type": "stream",
     "text": [
      "valid Loss: 0.8126 Acc: 79.3399%\n",
      "------------------------------------------------------------\n"
     ]
    },
    {
     "name": "stderr",
     "output_type": "stream",
     "text": [
      "Epoch 36, train: 100%|██████████| 6560/6560 [00:13<00:00, 487.61it/s, loss=2.26747, lr=0.0100000000]\n"
     ]
    },
    {
     "name": "stdout",
     "output_type": "stream",
     "text": [
      "train Loss: 0.9647 Acc: 72.7717%\n"
     ]
    },
    {
     "name": "stderr",
     "output_type": "stream",
     "text": [
      "Epoch 36, valid: 100%|██████████| 832/832 [00:02<00:00, 366.75it/s, loss=2.26306, lr=0.0100000000]\n"
     ]
    },
    {
     "name": "stdout",
     "output_type": "stream",
     "text": [
      "valid Loss: 0.7986 Acc: 79.2176%\n",
      "------------------------------------------------------------\n"
     ]
    },
    {
     "name": "stderr",
     "output_type": "stream",
     "text": [
      "Epoch 37, train: 100%|██████████| 6560/6560 [00:13<00:00, 487.87it/s, loss=2.23276, lr=0.0100000000]\n"
     ]
    },
    {
     "name": "stdout",
     "output_type": "stream",
     "text": [
      "train Loss: 0.9716 Acc: 73.3974%\n"
     ]
    },
    {
     "name": "stderr",
     "output_type": "stream",
     "text": [
      "Epoch 37, valid: 100%|██████████| 832/832 [00:02<00:00, 358.03it/s, loss=2.22858, lr=0.0100000000]\n"
     ]
    },
    {
     "name": "stdout",
     "output_type": "stream",
     "text": [
      "valid Loss: 0.8013 Acc: 78.3619%\n",
      "------------------------------------------------------------\n"
     ]
    },
    {
     "name": "stderr",
     "output_type": "stream",
     "text": [
      "Epoch 38, train: 100%|██████████| 6560/6560 [00:13<00:00, 486.20it/s, loss=2.19921, lr=0.0100000000]\n"
     ]
    },
    {
     "name": "stdout",
     "output_type": "stream",
     "text": [
      "train Loss: 0.9438 Acc: 73.9469%\n"
     ]
    },
    {
     "name": "stderr",
     "output_type": "stream",
     "text": [
      "Epoch 38, valid: 100%|██████████| 832/832 [00:02<00:00, 354.94it/s, loss=2.19529, lr=0.0100000000]\n"
     ]
    },
    {
     "name": "stdout",
     "output_type": "stream",
     "text": [
      "valid Loss: 0.8211 Acc: 79.0954%\n",
      "------------------------------------------------------------\n"
     ]
    },
    {
     "name": "stderr",
     "output_type": "stream",
     "text": [
      "Epoch 39, train: 100%|██████████| 6560/6560 [00:13<00:00, 489.97it/s, loss=2.16743, lr=0.0100000000]\n"
     ]
    },
    {
     "name": "stdout",
     "output_type": "stream",
     "text": [
      "train Loss: 0.9454 Acc: 74.0079%\n"
     ]
    },
    {
     "name": "stderr",
     "output_type": "stream",
     "text": [
      "Epoch 39, valid: 100%|██████████| 832/832 [00:02<00:00, 355.20it/s, loss=2.16365, lr=0.0100000000]\n"
     ]
    },
    {
     "name": "stdout",
     "output_type": "stream",
     "text": [
      "valid Loss: 0.8064 Acc: 79.2176%\n",
      "------------------------------------------------------------\n"
     ]
    },
    {
     "name": "stderr",
     "output_type": "stream",
     "text": [
      "Epoch 40, train: 100%|██████████| 6560/6560 [00:13<00:00, 483.29it/s, loss=2.13645, lr=0.0100000000]\n"
     ]
    },
    {
     "name": "stdout",
     "output_type": "stream",
     "text": [
      "train Loss: 0.9124 Acc: 74.8016%\n"
     ]
    },
    {
     "name": "stderr",
     "output_type": "stream",
     "text": [
      "Epoch 40, valid: 100%|██████████| 832/832 [00:02<00:00, 357.15it/s, loss=2.13280, lr=0.0100000000]\n"
     ]
    },
    {
     "name": "stdout",
     "output_type": "stream",
     "text": [
      "valid Loss: 0.7877 Acc: 79.0954%\n",
      "------------------------------------------------------------\n"
     ]
    },
    {
     "name": "stderr",
     "output_type": "stream",
     "text": [
      "Epoch 41, train: 100%|██████████| 6560/6560 [00:13<00:00, 482.95it/s, loss=2.10748, lr=0.0100000000]\n"
     ]
    },
    {
     "name": "stdout",
     "output_type": "stream",
     "text": [
      "train Loss: 0.9399 Acc: 74.2063%\n"
     ]
    },
    {
     "name": "stderr",
     "output_type": "stream",
     "text": [
      "Epoch 41, valid: 100%|██████████| 832/832 [00:02<00:00, 356.06it/s, loss=2.10397, lr=0.0100000000]\n"
     ]
    },
    {
     "name": "stdout",
     "output_type": "stream",
     "text": [
      "valid Loss: 0.7773 Acc: 79.8289%\n",
      "------------------------------------------------------------\n"
     ]
    },
    {
     "name": "stderr",
     "output_type": "stream",
     "text": [
      "Epoch 42, train: 100%|██████████| 6560/6560 [00:13<00:00, 484.05it/s, loss=2.07912, lr=0.0100000000]\n"
     ]
    },
    {
     "name": "stdout",
     "output_type": "stream",
     "text": [
      "train Loss: 0.9052 Acc: 74.5879%\n"
     ]
    },
    {
     "name": "stderr",
     "output_type": "stream",
     "text": [
      "Epoch 42, valid: 100%|██████████| 832/832 [00:02<00:00, 358.25it/s, loss=2.07570, lr=0.0100000000]\n"
     ]
    },
    {
     "name": "stdout",
     "output_type": "stream",
     "text": [
      "valid Loss: 0.7534 Acc: 79.7066%\n",
      "------------------------------------------------------------\n"
     ]
    },
    {
     "name": "stderr",
     "output_type": "stream",
     "text": [
      "Epoch 43, train: 100%|██████████| 6560/6560 [00:13<00:00, 479.62it/s, loss=2.05158, lr=0.0100000000]\n"
     ]
    },
    {
     "name": "stdout",
     "output_type": "stream",
     "text": [
      "train Loss: 0.8853 Acc: 75.3053%\n"
     ]
    },
    {
     "name": "stderr",
     "output_type": "stream",
     "text": [
      "Epoch 43, valid: 100%|██████████| 832/832 [00:02<00:00, 354.35it/s, loss=2.04836, lr=0.0100000000]\n"
     ]
    },
    {
     "name": "stdout",
     "output_type": "stream",
     "text": [
      "valid Loss: 0.7733 Acc: 80.6846%\n",
      "------------------------------------------------------------\n"
     ]
    },
    {
     "name": "stderr",
     "output_type": "stream",
     "text": [
      "Epoch 44, train: 100%|██████████| 6560/6560 [00:13<00:00, 484.59it/s, loss=2.02545, lr=0.0100000000]\n"
     ]
    },
    {
     "name": "stdout",
     "output_type": "stream",
     "text": [
      "train Loss: 0.8915 Acc: 75.0763%\n"
     ]
    },
    {
     "name": "stderr",
     "output_type": "stream",
     "text": [
      "Epoch 44, valid: 100%|██████████| 832/832 [00:02<00:00, 339.18it/s, loss=2.02232, lr=0.0100000000]\n"
     ]
    },
    {
     "name": "stdout",
     "output_type": "stream",
     "text": [
      "valid Loss: 0.7555 Acc: 79.4621%\n",
      "------------------------------------------------------------\n",
      "\n",
      "Training complete in 11m 52s\n",
      "Best val Acc: 80.684597%\n",
      "\n",
      "\n",
      "----------\n",
      "Test Loss: 0.8528 Acc: 77.4115%\n"
     ]
    },
    {
     "data": {
      "image/png": "[encoded data removed]",
      "text/plain": [
       "<Figure size 432x288 with 1 Axes>"
      ]
     },
     "metadata": {
      "image/png": {
       "height": 277,
       "width": 376
      },
      "needs_background": "light"
     },
     "output_type": "display_data"
    }
   ],
   "source": [
    "# tell wandb to get started\n",
    "run = wandb.init(**wandb_init)\n",
    "\n",
    "# make the model, data, and optimization problem\n",
    "model_ft, criterion, optimizer, scheduler = make(config)\n",
    "\n",
    "# and use them to train the model\n",
    "model_ft = train_model(model_ft, criterion, optimizer, scheduler, config)\n",
    "\n",
    "test_model(model_ft, criterion)"
   ]
  },
  {
   "cell_type": "code",
   "execution_count": 14,
   "metadata": {},
   "outputs": [
    {
     "data": {
      "image/png": "[encoded data removed]",
      "text/plain": [
       "<Figure size 432x288 with 1 Axes>"
      ]
     },
     "metadata": {
      "image/png": {
       "height": 77,
       "width": 228
      },
      "needs_background": "light"
     },
     "output_type": "display_data"
    },
    {
     "data": {
      "image/png": "[encoded data removed]",
      "text/plain": [
       "<Figure size 432x288 with 1 Axes>"
      ]
     },
     "metadata": {
      "image/png": {
       "height": 77,
       "width": 230
      },
      "needs_background": "light"
     },
     "output_type": "display_data"
    },
    {
     "data": {
      "image/png": "[encoded data removed]",
      "text/plain": [
       "<Figure size 432x288 with 1 Axes>"
      ]
     },
     "metadata": {
      "image/png": {
       "height": 77,
       "width": 321
      },
      "needs_background": "light"
     },
     "output_type": "display_data"
    },
    {
     "data": {
      "image/png": "[encoded data removed]",
      "text/plain": [
       "<Figure size 432x288 with 1 Axes>"
      ]
     },
     "metadata": {
      "image/png": {
       "height": 77,
       "width": 251
      },
      "needs_background": "light"
     },
     "output_type": "display_data"
    },
    {
     "data": {
      "image/png": "[encoded data removed]",
      "text/plain": [
       "<Figure size 432x288 with 1 Axes>"
      ]
     },
     "metadata": {
      "image/png": {
       "height": 77,
       "width": 221
      },
      "needs_background": "light"
     },
     "output_type": "display_data"
    },
    {
     "data": {
      "image/png": "[encoded data removed]",
      "text/plain": [
       "<Figure size 432x288 with 1 Axes>"
      ]
     },
     "metadata": {
      "image/png": {
       "height": 77,
       "width": 231
      },
      "needs_background": "light"
     },
     "output_type": "display_data"
    },
    {
     "data": {
      "image/png": "[encoded data removed]",
      "text/plain": [
       "<Figure size 432x288 with 1 Axes>"
      ]
     },
     "metadata": {
      "image/png": {
       "height": 77,
       "width": 226
      },
      "needs_background": "light"
     },
     "output_type": "display_data"
    },
    {
     "data": {
      "image/png": "[encoded data removed]",
      "text/plain": [
       "<Figure size 432x288 with 1 Axes>"
      ]
     },
     "metadata": {
      "image/png": {
       "height": 77,
       "width": 362
      },
      "needs_background": "light"
     },
     "output_type": "display_data"
    }
   ],
   "source": [
    "visualize_model(model_ft, num_images=8)"
   ]
  },
  {
   "cell_type": "markdown",
   "metadata": {},
   "source": [
    "## Display the confusion matrix as a heatmap"
   ]
  },
  {
   "cell_type": "code",
   "execution_count": 15,
   "metadata": {},
   "outputs": [],
   "source": [
    "class_correct = list(0. for i in range(10))\n",
    "class_total = list(0. for i in range(10))\n",
    "preds = np.zeros((1))\n",
    "truth = np.zeros((1))\n",
    "\n",
    "model_ft.eval()\n",
    "with torch.no_grad():\n",
    "    for i, data in enumerate(dataloaders['test']):\n",
    "        images, labels = data[0].to(device), data[1].to(device)\n",
    "        outputs = model_ft(images.to(device))\n",
    "        pred = outputs.argmax(dim=1)\n",
    "        preds = np.concatenate([preds, pred.cpu().numpy()], axis=0)\n",
    "        truth = np.concatenate([truth, labels.cpu().numpy()], axis=0)"
   ]
  },
  {
   "cell_type": "code",
   "execution_count": 16,
   "metadata": {
    "colab": {
     "base_uri": "https://localhost:8080/",
     "height": 406
    },
    "id": "dNBW6KIe-pcE",
    "outputId": "4fc0a4dd-9481-487b-f100-b627584d2a22"
   },
   "outputs": [
    {
     "data": {
      "text/plain": [
       "<matplotlib.colorbar.Colorbar at 0x7fa8c9003070>"
      ]
     },
     "execution_count": 16,
     "metadata": {},
     "output_type": "execute_result"
    },
    {
     "data": {
      "image/png": "[encoded data removed]",
      "text/plain": [
       "<Figure size 720x720 with 2 Axes>"
      ]
     },
     "metadata": {
      "image/png": {
       "height": 563,
       "width": 561
      },
      "needs_background": "light"
     },
     "output_type": "display_data"
    }
   ],
   "source": [
    "import pandas as pd\n",
    "from sklearn.metrics import confusion_matrix\n",
    "\n",
    "# Display the confusion matrix as a heatmap\n",
    "arr = confusion_matrix(truth, preds)\n",
    "fig = plt.figure(figsize=(10,10))\n",
    "plt.imshow(arr)\n",
    "plt.colorbar()"
   ]
  },
  {
   "cell_type": "markdown",
   "metadata": {},
   "source": [
    "## Some multi-class performance report defined from Scikit-learn"
   ]
  },
  {
   "cell_type": "code",
   "execution_count": 17,
   "metadata": {},
   "outputs": [
    {
     "name": "stdout",
     "output_type": "stream",
     "text": [
      "                           precision    recall  f1-score   support\n",
      "\n",
      "            pink primrose       0.80      0.67      0.73         6\n",
      "            globe thistle       0.40      0.67      0.50         3\n",
      "           blanket flower       1.00      1.00      1.00         8\n",
      "          trumpet creeper       0.60      0.75      0.67         4\n",
      "          blackberry lily       0.86      1.00      0.92         6\n",
      "               snapdragon       0.56      0.56      0.56         9\n",
      "              colt's foot       0.70      0.78      0.74         9\n",
      "              king protea       1.00      0.83      0.91         6\n",
      "            spear thistle       0.75      1.00      0.86         3\n",
      "              yellow iris       0.80      1.00      0.89         4\n",
      "             globe-flower       0.00      0.00      0.00         3\n",
      "        purple coneflower       1.00      1.00      1.00         9\n",
      "            peruvian lily       0.60      0.50      0.55         6\n",
      "           balloon flower       0.83      0.71      0.77         7\n",
      "hard-leaved pocket orchid       1.00      0.80      0.89         5\n",
      "    giant white arum lily       0.33      0.67      0.44         3\n",
      "                fire lily       0.00      0.00      0.00         2\n",
      "        pincushion flower       1.00      0.75      0.86         4\n",
      "               fritillary       0.64      1.00      0.78         7\n",
      "               red ginger       0.00      0.00      0.00         2\n",
      "           grape hyacinth       1.00      0.60      0.75         5\n",
      "               corn poppy       1.00      0.60      0.75         5\n",
      " prince of wales feathers       0.67      0.67      0.67         3\n",
      "         stemless gentian       0.83      0.83      0.83         6\n",
      "                artichoke       0.90      1.00      0.95         9\n",
      "         canterbury bells       0.50      0.50      0.50         2\n",
      "            sweet william       0.79      0.79      0.79        14\n",
      "                carnation       0.50      1.00      0.67         2\n",
      "             garden phlox       0.00      0.00      0.00         6\n",
      "         love in the mist       0.88      0.88      0.88         8\n",
      "            mexican aster       0.67      0.40      0.50         5\n",
      "         alpine sea holly       0.83      0.83      0.83         6\n",
      "     ruby-lipped cattleya       0.86      0.86      0.86         7\n",
      "              cape flower       1.00      0.88      0.93         8\n",
      "         great masterwort       0.78      0.88      0.82         8\n",
      "               siam tulip       0.75      0.60      0.67         5\n",
      "                sweet pea       0.67      0.33      0.44         6\n",
      "              lenten rose       0.83      0.62      0.71         8\n",
      "           barbeton daisy       0.80      0.86      0.83        14\n",
      "                 daffodil       0.67      0.50      0.57         4\n",
      "               sword lily       0.69      0.56      0.62        16\n",
      "               poinsettia       0.82      0.82      0.82        11\n",
      "         bolero deep blue       0.67      0.67      0.67         3\n",
      "               wallflower       0.75      1.00      0.86        21\n",
      "                 marigold       1.00      1.00      1.00         3\n",
      "                buttercup       1.00      0.80      0.89         5\n",
      "              oxeye daisy       0.60      1.00      0.75         3\n",
      "         english marigold       0.60      0.75      0.67         4\n",
      "         common dandelion       0.88      0.88      0.88         8\n",
      "                  petunia       0.75      0.62      0.68        24\n",
      "               wild pansy       0.88      0.88      0.88         8\n",
      "                  primula       0.73      0.57      0.64        14\n",
      "                sunflower       0.80      1.00      0.89         4\n",
      "              pelargonium       1.00      1.00      1.00         7\n",
      "       bishop of llandaff       1.00      1.00      1.00         8\n",
      "                    gaura       0.91      0.91      0.91        11\n",
      "                 geranium       0.93      1.00      0.97        14\n",
      "            orange dahlia       1.00      1.00      1.00         7\n",
      "               tiger lily       0.80      0.89      0.84         9\n",
      "       pink-yellow dahlia       0.91      1.00      0.95        10\n",
      "         cautleya spicata       0.89      1.00      0.94         8\n",
      "         japanese anemone       1.00      1.00      1.00         4\n",
      "         black-eyed susan       1.00      1.00      1.00         4\n",
      "               silverbush       0.83      1.00      0.91         5\n",
      "        californian poppy       0.88      1.00      0.93         7\n",
      "             osteospermum       0.67      1.00      0.80         4\n",
      "            spring crocus       0.50      0.75      0.60         4\n",
      "             bearded iris       1.00      0.33      0.50         3\n",
      "               windflower       0.75      1.00      0.86         3\n",
      "              moon orchid       1.00      0.50      0.67         6\n",
      "               tree poppy       1.00      1.00      1.00         4\n",
      "                  gazania       1.00      1.00      1.00         9\n",
      "                   azalea       0.70      0.64      0.67        11\n",
      "               water lily       0.96      0.96      0.96        28\n",
      "                     rose       0.65      0.79      0.71        14\n",
      "              thorn apple       0.86      0.92      0.89        13\n",
      "            morning glory       1.00      0.75      0.86         4\n",
      "           passion flower       0.92      0.96      0.94        25\n",
      "              lotus lotus       0.82      1.00      0.90        14\n",
      "                toad lily       1.00      0.67      0.80         3\n",
      "         bird of paradise       0.71      1.00      0.83        10\n",
      "                anthurium       0.43      0.27      0.33        11\n",
      "               frangipani       0.79      0.85      0.81        13\n",
      "                 clematis       0.92      0.71      0.80        17\n",
      "                 hibiscus       0.89      0.57      0.70        14\n",
      "                columbine       0.67      0.60      0.63        10\n",
      "              desert-rose       0.80      0.80      0.80        10\n",
      "              tree mallow       0.75      0.60      0.67         5\n",
      "                 magnolia       0.55      1.00      0.71         6\n",
      "                 cyclamen       0.82      0.69      0.75        13\n",
      "               watercress       0.85      0.73      0.79        15\n",
      "                monkshood       0.33      1.00      0.50         2\n",
      "               canna lily       0.33      0.36      0.34        14\n",
      "              hippeastrum       0.89      1.00      0.94         8\n",
      "                 bee balm       0.78      0.64      0.70        11\n",
      "                ball moss       0.38      0.50      0.43         6\n",
      "                 foxglove       0.64      0.88      0.74        16\n",
      "            bougainvillea       0.80      0.57      0.67        14\n",
      "                 camellia       0.50      0.44      0.47         9\n",
      "                   mallow       0.43      0.60      0.50         5\n",
      "          mexican petunia       0.60      0.75      0.67         4\n",
      "                 bromelia       0.50      0.43      0.46         7\n",
      "\n",
      "                 accuracy                           0.77       820\n",
      "                macro avg       0.75      0.75      0.74       820\n",
      "             weighted avg       0.78      0.77      0.77       820\n",
      "\n"
     ]
    }
   ],
   "source": [
    "from sklearn.metrics import classification_report\n",
    "print(classification_report(truth, preds, target_names=class_names, zero_division=0))"
   ]
  },
  {
   "cell_type": "code",
   "execution_count": 18,
   "metadata": {},
   "outputs": [],
   "source": [
    "run.finish()"
   ]
  }
 ],
 "metadata": {
  "kernelspec": {
   "display_name": "Python 3 (ipykernel)",
   "language": "python",
   "name": "python3"
  },
  "language_info": {
   "codemirror_mode": {
    "name": "ipython",
    "version": 3
   },
   "file_extension": ".py",
   "mimetype": "text/x-python",
   "name": "python",
   "nbconvert_exporter": "python",
   "pygments_lexer": "ipython3",
   "version": "3.8.10"
  },
  "vscode": {
   "interpreter": {
    "hash": "1b78e932638e08554df05c20af87637e4b1aca929fdb8a300e51156ee9428db4"
   }
  }
 },
 "nbformat": 4,
 "nbformat_minor": 4
}
